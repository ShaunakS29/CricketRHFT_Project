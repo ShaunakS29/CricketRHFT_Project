{
 "cells": [
  {
   "cell_type": "markdown",
   "id": "e684ddcb",
   "metadata": {},
   "source": [
    "# PREDICTIVE MODELLING part 1: winners of matches\n",
    "\n",
    "This segment of the project focused on finding ways to predict the winner of every match. \n",
    "\n",
    "The match data of 55 matches played in the 2020 and 2021 seasons were used in training machine learning models. The performance of these models was then evaluated by using them to predict the match winners of the 16 matches that have already been played for 2022 season as on 23rd July. The predicted results were then validated with the actual outcomes to understand how close the predictions have been. "
   ]
  },
  {
   "cell_type": "code",
   "execution_count": 3,
   "id": "adc70e9e",
   "metadata": {},
   "outputs": [
    {
     "data": {
      "text/html": [
       "<script>\n",
       "code_show=true; \n",
       "function code_toggle() {\n",
       " if (code_show){\n",
       " $('div.input').hide();\n",
       " } else {\n",
       " $('div.input').show();\n",
       " }\n",
       " code_show = !code_show\n",
       "} \n",
       "$( document ).ready(code_toggle);\n",
       "</script>\n",
       "<form action=\"javascript:code_toggle()\"><input type=\"submit\" value=\"Show/Hide Code.\"></form>"
      ],
      "text/plain": [
       "<IPython.core.display.HTML object>"
      ]
     },
     "execution_count": 3,
     "metadata": {},
     "output_type": "execute_result"
    }
   ],
   "source": [
    "from IPython.display import HTML\n",
    "\n",
    "HTML('''<script>\n",
    "code_show=true; \n",
    "function code_toggle() {\n",
    " if (code_show){\n",
    " $('div.input').hide();\n",
    " } else {\n",
    " $('div.input').show();\n",
    " }\n",
    " code_show = !code_show\n",
    "} \n",
    "$( document ).ready(code_toggle);\n",
    "</script>\n",
    "<form action=\"javascript:code_toggle()\"><input type=\"submit\" value=\"Show/Hide Code.\"></form>''')"
   ]
  },
  {
   "cell_type": "code",
   "execution_count": 201,
   "id": "65ddcada",
   "metadata": {},
   "outputs": [],
   "source": [
    "import numpy as np\n",
    "import pandas as pd\n",
    "import matplotlib.pyplot as plt\n",
    "import seaborn as sns\n",
    "%matplotlib inline"
   ]
  },
  {
   "cell_type": "markdown",
   "id": "1d21154e",
   "metadata": {},
   "source": [
    " <h2 align=\"center\">Predicting winners based on batting and bowling scores</h2>"
   ]
  },
  {
   "cell_type": "markdown",
   "id": "e4795b19",
   "metadata": {},
   "source": [
    "The Team Batting Scores and Team Bowling Scores of the playing teams have been used as feature variables along with the teams themselves. The winning teams of the matches were the target variables. The team names being categorical variables, were required to be converted to numerical form prior to put into modelling. This conversion was done by one-hot encoding method where each of the team names were represented by a separate column and binary value of 1 or 0 were assigned under them. 1 signified that the team was playing while 0 meant otherwise."
   ]
  },
  {
   "cell_type": "markdown",
   "id": "ade08ae2",
   "metadata": {},
   "source": [
    "#### Prepare the data for modelling"
   ]
  },
  {
   "cell_type": "code",
   "execution_count": 202,
   "id": "b4e0b9e5",
   "metadata": {},
   "outputs": [],
   "source": [
    "matches_info_final=pd.read_csv(\"C:\\\\Users\\\\DELL\\\\Cricdata\\\\matches_info_final.csv\")"
   ]
  },
  {
   "cell_type": "code",
   "execution_count": 203,
   "id": "7ca86e6d",
   "metadata": {},
   "outputs": [
    {
     "data": {
      "text/html": [
       "<div>\n",
       "<style scoped>\n",
       "    .dataframe tbody tr th:only-of-type {\n",
       "        vertical-align: middle;\n",
       "    }\n",
       "\n",
       "    .dataframe tbody tr th {\n",
       "        vertical-align: top;\n",
       "    }\n",
       "\n",
       "    .dataframe thead th {\n",
       "        text-align: right;\n",
       "    }\n",
       "</style>\n",
       "<table border=\"1\" class=\"dataframe\">\n",
       "  <thead>\n",
       "    <tr style=\"text-align: right;\">\n",
       "      <th></th>\n",
       "      <th>match_id</th>\n",
       "      <th>Team1</th>\n",
       "      <th>Team1_batting_score</th>\n",
       "      <th>Team1_bowling_score</th>\n",
       "      <th>Team2</th>\n",
       "      <th>Team2_batting_score</th>\n",
       "      <th>Team2_bowling_score</th>\n",
       "      <th>Winner</th>\n",
       "    </tr>\n",
       "  </thead>\n",
       "  <tbody>\n",
       "    <tr>\n",
       "      <th>0</th>\n",
       "      <td>1229326</td>\n",
       "      <td>Sunrisers</td>\n",
       "      <td>0.351885</td>\n",
       "      <td>0.226362</td>\n",
       "      <td>Southern Vipers</td>\n",
       "      <td>0.432089</td>\n",
       "      <td>0.575077</td>\n",
       "      <td>Southern Vipers</td>\n",
       "    </tr>\n",
       "    <tr>\n",
       "      <th>1</th>\n",
       "      <td>1229327</td>\n",
       "      <td>Central Sparks</td>\n",
       "      <td>0.507622</td>\n",
       "      <td>0.384719</td>\n",
       "      <td>Northern Diamonds</td>\n",
       "      <td>0.438789</td>\n",
       "      <td>0.652276</td>\n",
       "      <td>Northern Diamonds</td>\n",
       "    </tr>\n",
       "    <tr>\n",
       "      <th>2</th>\n",
       "      <td>1229328</td>\n",
       "      <td>Thunder</td>\n",
       "      <td>0.375013</td>\n",
       "      <td>0.427033</td>\n",
       "      <td>Lightning</td>\n",
       "      <td>0.488599</td>\n",
       "      <td>0.433753</td>\n",
       "      <td>Thunder</td>\n",
       "    </tr>\n",
       "    <tr>\n",
       "      <th>3</th>\n",
       "      <td>1229329</td>\n",
       "      <td>South East Stars</td>\n",
       "      <td>0.358424</td>\n",
       "      <td>0.327197</td>\n",
       "      <td>Western Storm</td>\n",
       "      <td>0.434135</td>\n",
       "      <td>0.276123</td>\n",
       "      <td>Western Storm</td>\n",
       "    </tr>\n",
       "    <tr>\n",
       "      <th>4</th>\n",
       "      <td>1229330</td>\n",
       "      <td>Southern Vipers</td>\n",
       "      <td>0.432089</td>\n",
       "      <td>0.575077</td>\n",
       "      <td>Western Storm</td>\n",
       "      <td>0.424910</td>\n",
       "      <td>0.270902</td>\n",
       "      <td>Southern Vipers</td>\n",
       "    </tr>\n",
       "  </tbody>\n",
       "</table>\n",
       "</div>"
      ],
      "text/plain": [
       "   match_id             Team1  Team1_batting_score  Team1_bowling_score  \\\n",
       "0   1229326         Sunrisers             0.351885             0.226362   \n",
       "1   1229327    Central Sparks             0.507622             0.384719   \n",
       "2   1229328           Thunder             0.375013             0.427033   \n",
       "3   1229329  South East Stars             0.358424             0.327197   \n",
       "4   1229330   Southern Vipers             0.432089             0.575077   \n",
       "\n",
       "               Team2  Team2_batting_score  Team2_bowling_score  \\\n",
       "0    Southern Vipers             0.432089             0.575077   \n",
       "1  Northern Diamonds             0.438789             0.652276   \n",
       "2          Lightning             0.488599             0.433753   \n",
       "3      Western Storm             0.434135             0.276123   \n",
       "4      Western Storm             0.424910             0.270902   \n",
       "\n",
       "              Winner  \n",
       "0    Southern Vipers  \n",
       "1  Northern Diamonds  \n",
       "2            Thunder  \n",
       "3      Western Storm  \n",
       "4    Southern Vipers  "
      ]
     },
     "execution_count": 203,
     "metadata": {},
     "output_type": "execute_result"
    }
   ],
   "source": [
    "matches_info_final.head()"
   ]
  },
  {
   "cell_type": "code",
   "execution_count": 204,
   "id": "6649fc1a",
   "metadata": {},
   "outputs": [
    {
     "name": "stdout",
     "output_type": "stream",
     "text": [
      "<class 'pandas.core.frame.DataFrame'>\n",
      "RangeIndex: 55 entries, 0 to 54\n",
      "Data columns (total 8 columns):\n",
      " #   Column               Non-Null Count  Dtype  \n",
      "---  ------               --------------  -----  \n",
      " 0   match_id             55 non-null     int64  \n",
      " 1   Team1                55 non-null     object \n",
      " 2   Team1_batting_score  55 non-null     float64\n",
      " 3   Team1_bowling_score  55 non-null     float64\n",
      " 4   Team2                55 non-null     object \n",
      " 5   Team2_batting_score  55 non-null     float64\n",
      " 6   Team2_bowling_score  55 non-null     float64\n",
      " 7   Winner               55 non-null     object \n",
      "dtypes: float64(4), int64(1), object(3)\n",
      "memory usage: 3.6+ KB\n"
     ]
    }
   ],
   "source": [
    "matches_info_final.info()"
   ]
  },
  {
   "cell_type": "code",
   "execution_count": 205,
   "id": "2c3f7513",
   "metadata": {},
   "outputs": [],
   "source": [
    "#form dummy variables for Team1 and Team2\n",
    "matches_info_final_v1 = pd.get_dummies(matches_info_final, prefix=['Team1_', 'Team2_'], columns=['Team1', 'Team2'])"
   ]
  },
  {
   "cell_type": "code",
   "execution_count": 206,
   "id": "cd88c3f3",
   "metadata": {},
   "outputs": [],
   "source": [
    "# Separate X and y sets\n",
    "X = matches_info_final_v1.drop(['match_id','Winner'],axis=1)\n",
    "y = matches_info_final[\"Winner\"]"
   ]
  },
  {
   "cell_type": "code",
   "execution_count": 207,
   "id": "a47b12bc",
   "metadata": {},
   "outputs": [
    {
     "data": {
      "text/plain": [
       "Index(['Team1_batting_score', 'Team1_bowling_score', 'Team2_batting_score',\n",
       "       'Team2_bowling_score', 'Team1__Central Sparks', 'Team1__Lightning',\n",
       "       'Team1__Northern Diamonds', 'Team1__South East Stars',\n",
       "       'Team1__Southern Vipers', 'Team1__Sunrisers', 'Team1__Thunder',\n",
       "       'Team1__Western Storm', 'Team2__Central Sparks', 'Team2__Lightning',\n",
       "       'Team2__Northern Diamonds', 'Team2__South East Stars',\n",
       "       'Team2__Southern Vipers', 'Team2__Sunrisers', 'Team2__Thunder',\n",
       "       'Team2__Western Storm'],\n",
       "      dtype='object')"
      ]
     },
     "execution_count": 207,
     "metadata": {},
     "output_type": "execute_result"
    }
   ],
   "source": [
    "X.columns"
   ]
  },
  {
   "cell_type": "markdown",
   "id": "35494464",
   "metadata": {},
   "source": [
    "### LinearSVC model"
   ]
  },
  {
   "cell_type": "markdown",
   "id": "4c1c478d",
   "metadata": {},
   "source": [
    "Prediction of match winners is a case of a classification problem. As the sample dataset was small with just 55 rows, a simple estimator like Linear SVC (Support Vector Classifier) was used. Linear SVC is a type of Support Vector Machine (SVM) estimator. "
   ]
  },
  {
   "cell_type": "code",
   "execution_count": 208,
   "id": "f8ca7d4e",
   "metadata": {},
   "outputs": [],
   "source": [
    "#function takes the features dataset(X), target dataset(y) and proportion of test dataset (testsize) as parameters\n",
    "def LSVC_model_function(X,y,testsize):\n",
    "    #import relevant libraries and packages\n",
    "    from sklearn.model_selection import train_test_split\n",
    "    from sklearn.svm import LinearSVC\n",
    "    from sklearn.model_selection import cross_val_score\n",
    "    from sklearn.metrics import confusion_matrix\n",
    "    \n",
    "    #perform train test split based on specified 'testsize'\n",
    "    X_train, X_test, y_train, y_test = train_test_split(X, y, test_size=testsize, random_state=42)\n",
    "    \n",
    "    #train the model\n",
    "    model=LinearSVC(C=1.0)\n",
    "    model.fit(X_train,y_train)\n",
    "    \n",
    "    #make predictions for test data\n",
    "    y_pred=model.predict(X_test)\n",
    "    \n",
    "    #print accuracies and show the confusion matrix    \n",
    "    print(\"-------Linear SVC--------\")\n",
    "    print(\"Test Size: \",'%.1f'%(testsize*100))\n",
    "    print(\"Train Accuracy: \",'%.2f'%(model.score(X_train, y_train)*100))\n",
    "    print(\"Test Accuracy: \", '%.2f'%(model.score(X_test, y_test)*100)+\"%\")\n",
    "    print(f\"Cross-Validated Accuracy:{np.mean(cross_val_score(model, X, y, cv=4))*100:.2f}%\")   \n",
    "    print(\"Confusion Matrix: \")\n",
    "    plt.title(\"LSVC model (test size:\" + str(testsize*100) +\"%)\",fontsize=10)\n",
    "    cm = pd.crosstab(y_test,y_pred,rownames=[\"Actual\"],colnames=[\"Predicted\"])\n",
    "    sns.heatmap(cm, annot=True, cmap=sns.color_palette(\"Greys\"))\n",
    "    \n",
    "    return model"
   ]
  },
  {
   "cell_type": "code",
   "execution_count": 209,
   "id": "8003d729",
   "metadata": {},
   "outputs": [],
   "source": [
    "#bootstrap sampled version\n",
    "#function takes the features dataset(X), target dataset(y) and number of times to be sampled (n_rep) as parameters\n",
    "def LSVC_model_function_bootstrapped(X,y,n_rep):\n",
    "    from sklearn.svm import LinearSVC\n",
    "\n",
    "    #combine X and y to replicate the original dataframe\n",
    "    df = pd.concat([X, y], axis=1) \n",
    "    \n",
    "    for i in range(n_rep):       \n",
    "        #sample the dataframe with repetitions of rows allowed and create new larger dataframe\n",
    "        df_new = df.sample(n=len(df)+i, replace=True, random_state=42+i)\n",
    "        \n",
    "        #split the new dataframe into X_new and y_new for features and targets respectively\n",
    "        X_new = df_new.drop('Winner',axis=1)\n",
    "        y_new = df_new['Winner']\n",
    "               \n",
    "        #train the model with the new larger dataset\n",
    "        model = LinearSVC(C=1.0)    \n",
    "        model.fit(X_new,y_new)\n",
    "\n",
    "    return model"
   ]
  },
  {
   "cell_type": "code",
   "execution_count": 210,
   "id": "12321440",
   "metadata": {},
   "outputs": [
    {
     "name": "stdout",
     "output_type": "stream",
     "text": [
      "-------Linear SVC--------\n",
      "Test Size:  25.0\n",
      "Train Accuracy:  100.00\n",
      "Test Accuracy:  64.29%\n",
      "Cross-Validated Accuracy:76.24%\n",
      "Confusion Matrix: \n"
     ]
    },
    {
     "data": {
      "image/png": "[encoded data removed]",
      "text/plain": [
       "<Figure size 432x288 with 2 Axes>"
      ]
     },
     "metadata": {
      "needs_background": "light"
     },
     "output_type": "display_data"
    }
   ],
   "source": [
    "#Train-Test 75%-25%\n",
    "WinnerbyScores_LSVC=LSVC_model_function(X,y,0.25)"
   ]
  },
  {
   "cell_type": "code",
   "execution_count": 211,
   "id": "8e39b366",
   "metadata": {},
   "outputs": [
    {
     "name": "stdout",
     "output_type": "stream",
     "text": [
      "-------Linear SVC--------\n",
      "Test Size:  30.0\n",
      "Train Accuracy:  100.00\n",
      "Test Accuracy:  52.94%\n",
      "Cross-Validated Accuracy:76.24%\n",
      "Confusion Matrix: \n"
     ]
    },
    {
     "data": {
      "image/png": "[encoded data removed]",
      "text/plain": [
       "<Figure size 432x288 with 2 Axes>"
      ]
     },
     "metadata": {
      "needs_background": "light"
     },
     "output_type": "display_data"
    }
   ],
   "source": [
    "#Train-Test 70%-30%\n",
    "WinnerbyScores_LSVC2=LSVC_model_function(X,y,0.3)"
   ]
  },
  {
   "cell_type": "code",
   "execution_count": 212,
   "id": "6ddbcbdb",
   "metadata": {},
   "outputs": [
    {
     "name": "stdout",
     "output_type": "stream",
     "text": [
      "-------Linear SVC--------\n",
      "Test Size:  20.0\n",
      "Train Accuracy:  100.00\n",
      "Test Accuracy:  81.82%\n",
      "Cross-Validated Accuracy:76.24%\n",
      "Confusion Matrix: \n"
     ]
    },
    {
     "data": {
      "image/png": "[encoded data removed]",
      "text/plain": [
       "<Figure size 432x288 with 2 Axes>"
      ]
     },
     "metadata": {
      "needs_background": "light"
     },
     "output_type": "display_data"
    }
   ],
   "source": [
    "#Train-Test 80%-20%\n",
    "WinnerbyScores_LSVC3=LSVC_model_function(X,y,0.2)"
   ]
  },
  {
   "cell_type": "markdown",
   "id": "d10f3433",
   "metadata": {},
   "source": [
    "The input data was further split into train and test datasets, where the train dataset was proportionally larger than the test. The train dataset was used to fit the model which was then used to predict the target values for the test dataset. The purpose of the split was to equip the model to handle unseen data better and minimize chances of overfitting with the input dataset. Linear SVC models with different ratios of train-test split were trained and overall model accuracies of the test predictions were observed. For each model, cross-validation technique was also applied where that model was trained on different split versions of train data and evaluated on corresponding different split versions of test data. The average accuracy for different versions were observed. \n",
    "\n",
    "The model trained with 80%-20% train-test split turned out to be the most accurate for predicting winners for test data.\n",
    "\n",
    "Bootstrap sampling approach- In order to compensate for the less amount of data, the 55 rows of the input dataset was randomly sampled multiple times with repetitions to increase the row numbers. The Linear SVC model was then trained with the whole dataset without any train-test split. "
   ]
  },
  {
   "cell_type": "code",
   "execution_count": 213,
   "id": "ca18efaf",
   "metadata": {},
   "outputs": [],
   "source": [
    "#bootstrapped\n",
    "WinnerbyScores_LSVC_boots=LSVC_model_function_bootstrapped(X,y,100)"
   ]
  },
  {
   "cell_type": "markdown",
   "id": "46cedf62",
   "metadata": {},
   "source": [
    "### Check how the models works by analysing with the 2022 matches\n",
    "\n",
    "The models were used to predict the winners of 2022 matches and then the predicted winners were compared with the actual winners."
   ]
  },
  {
   "cell_type": "code",
   "execution_count": 216,
   "id": "dd0643b1",
   "metadata": {},
   "outputs": [],
   "source": [
    "matches_info_final2022=pd.read_csv(\"C:\\\\Users\\\\DELL\\\\Cricdata\\\\matches_info_final2022.csv\")\n",
    "winners_df2022=pd.read_csv(\"C:\\\\Users\\\\DELL\\\\Cricdata\\\\winners_df2022.csv\")"
   ]
  },
  {
   "cell_type": "code",
   "execution_count": 217,
   "id": "4e69de53",
   "metadata": {},
   "outputs": [],
   "source": [
    "#form dummy variables for Team1 and Team2\n",
    "matches_info_final2022_v1 = pd.get_dummies(matches_info_final2022, prefix=['Team1_', 'Team2_'], columns=['Team1', 'Team2'])\n",
    "\n",
    "X_2022 = matches_info_final2022_v1.drop(['match_id'],axis=1)\n",
    "\n",
    "y_2022 = winners_df2022[\"Winner\"]"
   ]
  },
  {
   "cell_type": "code",
   "execution_count": 218,
   "id": "d3c5287c",
   "metadata": {},
   "outputs": [],
   "source": [
    "y_pred2022_LSVC = WinnerbyScores_LSVC.predict(X_2022)\n",
    "y_pred2022_LSVC2 = WinnerbyScores_LSVC2.predict(X_2022)\n",
    "y_pred2022_LSVC3 = WinnerbyScores_LSVC3.predict(X_2022)\n",
    "\n",
    "y_pred2022_LSVC_boots = WinnerbyScores_LSVC_boots.predict(X_2022)"
   ]
  },
  {
   "cell_type": "code",
   "execution_count": 219,
   "id": "fdfbaadd",
   "metadata": {},
   "outputs": [],
   "source": [
    "predictions2022 = pd.DataFrame(data={\"match_id\":winners_df2022['match_id'],\n",
    "                                     \"Team1\":matches_info_final2022['Team1'],\n",
    "                                     \"Team2\":matches_info_final2022['Team2'],\n",
    "                                     \"Actual Winner\":y_2022,\n",
    "                                     \"Predicted Winner LSVC\":y_pred2022_LSVC,\n",
    "                                     \"Predicted Winner LSVC2\":y_pred2022_LSVC2,\n",
    "                                     \"Predicted Winner LSVC3\":y_pred2022_LSVC3,\n",
    "                                     \"Predicted Winner LSVC boots\":y_pred2022_LSVC_boots})"
   ]
  },
  {
   "cell_type": "code",
   "execution_count": 220,
   "id": "919f477e",
   "metadata": {},
   "outputs": [],
   "source": [
    "predictions2022['Predictions LSVC'] = (predictions2022['Actual Winner']==predictions2022['Predicted Winner LSVC'])\n",
    "predictions2022['Predictions LSVC2'] = (predictions2022['Actual Winner']==predictions2022['Predicted Winner LSVC2'])\n",
    "predictions2022['Predictions LSVC3'] = (predictions2022['Actual Winner']==predictions2022['Predicted Winner LSVC3'])\n",
    "\n",
    "predictions2022['Predictions LSVC boots'] = (predictions2022['Actual Winner']==predictions2022['Predicted Winner LSVC boots'])"
   ]
  },
  {
   "cell_type": "code",
   "execution_count": 221,
   "id": "6dc73856",
   "metadata": {},
   "outputs": [
    {
     "data": {
      "text/html": [
       "<div>\n",
       "<style scoped>\n",
       "    .dataframe tbody tr th:only-of-type {\n",
       "        vertical-align: middle;\n",
       "    }\n",
       "\n",
       "    .dataframe tbody tr th {\n",
       "        vertical-align: top;\n",
       "    }\n",
       "\n",
       "    .dataframe thead th {\n",
       "        text-align: right;\n",
       "    }\n",
       "</style>\n",
       "<table border=\"1\" class=\"dataframe\">\n",
       "  <thead>\n",
       "    <tr style=\"text-align: right;\">\n",
       "      <th></th>\n",
       "      <th>match_id</th>\n",
       "      <th>Team1</th>\n",
       "      <th>Team2</th>\n",
       "      <th>Actual Winner</th>\n",
       "      <th>Predicted Winner LSVC</th>\n",
       "      <th>Predicted Winner LSVC2</th>\n",
       "      <th>Predicted Winner LSVC3</th>\n",
       "      <th>Predicted Winner LSVC boots</th>\n",
       "      <th>Predictions LSVC</th>\n",
       "      <th>Predictions LSVC2</th>\n",
       "      <th>Predictions LSVC3</th>\n",
       "      <th>Predictions LSVC boots</th>\n",
       "    </tr>\n",
       "  </thead>\n",
       "  <tbody>\n",
       "    <tr>\n",
       "      <th>0</th>\n",
       "      <td>202201</td>\n",
       "      <td>Central Sparks</td>\n",
       "      <td>Southern Vipers</td>\n",
       "      <td>Southern Vipers</td>\n",
       "      <td>Central Sparks</td>\n",
       "      <td>Central Sparks</td>\n",
       "      <td>Central Sparks</td>\n",
       "      <td>Central Sparks</td>\n",
       "      <td>False</td>\n",
       "      <td>False</td>\n",
       "      <td>False</td>\n",
       "      <td>False</td>\n",
       "    </tr>\n",
       "    <tr>\n",
       "      <th>1</th>\n",
       "      <td>202202</td>\n",
       "      <td>South East Stars</td>\n",
       "      <td>Sunrisers</td>\n",
       "      <td>South East Stars</td>\n",
       "      <td>South East Stars</td>\n",
       "      <td>South East Stars</td>\n",
       "      <td>South East Stars</td>\n",
       "      <td>South East Stars</td>\n",
       "      <td>True</td>\n",
       "      <td>True</td>\n",
       "      <td>True</td>\n",
       "      <td>True</td>\n",
       "    </tr>\n",
       "    <tr>\n",
       "      <th>2</th>\n",
       "      <td>202203</td>\n",
       "      <td>Western Storm</td>\n",
       "      <td>Lightning</td>\n",
       "      <td>Western Storm</td>\n",
       "      <td>Western Storm</td>\n",
       "      <td>Western Storm</td>\n",
       "      <td>Western Storm</td>\n",
       "      <td>Western Storm</td>\n",
       "      <td>True</td>\n",
       "      <td>True</td>\n",
       "      <td>True</td>\n",
       "      <td>True</td>\n",
       "    </tr>\n",
       "    <tr>\n",
       "      <th>3</th>\n",
       "      <td>202204</td>\n",
       "      <td>Northern Diamonds</td>\n",
       "      <td>Thunder</td>\n",
       "      <td>Northern Diamonds</td>\n",
       "      <td>Northern Diamonds</td>\n",
       "      <td>Northern Diamonds</td>\n",
       "      <td>Northern Diamonds</td>\n",
       "      <td>Northern Diamonds</td>\n",
       "      <td>True</td>\n",
       "      <td>True</td>\n",
       "      <td>True</td>\n",
       "      <td>True</td>\n",
       "    </tr>\n",
       "    <tr>\n",
       "      <th>4</th>\n",
       "      <td>202205</td>\n",
       "      <td>Central Sparks</td>\n",
       "      <td>Western Storm</td>\n",
       "      <td>Central Sparks</td>\n",
       "      <td>Central Sparks</td>\n",
       "      <td>Central Sparks</td>\n",
       "      <td>Central Sparks</td>\n",
       "      <td>Central Sparks</td>\n",
       "      <td>True</td>\n",
       "      <td>True</td>\n",
       "      <td>True</td>\n",
       "      <td>True</td>\n",
       "    </tr>\n",
       "    <tr>\n",
       "      <th>5</th>\n",
       "      <td>202206</td>\n",
       "      <td>Northern Diamonds</td>\n",
       "      <td>Sunrisers</td>\n",
       "      <td>Northern Diamonds</td>\n",
       "      <td>Northern Diamonds</td>\n",
       "      <td>Northern Diamonds</td>\n",
       "      <td>Northern Diamonds</td>\n",
       "      <td>Northern Diamonds</td>\n",
       "      <td>True</td>\n",
       "      <td>True</td>\n",
       "      <td>True</td>\n",
       "      <td>True</td>\n",
       "    </tr>\n",
       "    <tr>\n",
       "      <th>6</th>\n",
       "      <td>202207</td>\n",
       "      <td>Thunder</td>\n",
       "      <td>Lightning</td>\n",
       "      <td>Lightning</td>\n",
       "      <td>Thunder</td>\n",
       "      <td>Thunder</td>\n",
       "      <td>Thunder</td>\n",
       "      <td>Thunder</td>\n",
       "      <td>False</td>\n",
       "      <td>False</td>\n",
       "      <td>False</td>\n",
       "      <td>False</td>\n",
       "    </tr>\n",
       "    <tr>\n",
       "      <th>7</th>\n",
       "      <td>202208</td>\n",
       "      <td>Southern Vipers</td>\n",
       "      <td>South East Stars</td>\n",
       "      <td>Southern Vipers</td>\n",
       "      <td>Southern Vipers</td>\n",
       "      <td>Southern Vipers</td>\n",
       "      <td>Southern Vipers</td>\n",
       "      <td>Southern Vipers</td>\n",
       "      <td>True</td>\n",
       "      <td>True</td>\n",
       "      <td>True</td>\n",
       "      <td>True</td>\n",
       "    </tr>\n",
       "    <tr>\n",
       "      <th>8</th>\n",
       "      <td>202209</td>\n",
       "      <td>Central Sparks</td>\n",
       "      <td>Northern Diamonds</td>\n",
       "      <td>Northern Diamonds</td>\n",
       "      <td>Northern Diamonds</td>\n",
       "      <td>Northern Diamonds</td>\n",
       "      <td>Northern Diamonds</td>\n",
       "      <td>Northern Diamonds</td>\n",
       "      <td>True</td>\n",
       "      <td>True</td>\n",
       "      <td>True</td>\n",
       "      <td>True</td>\n",
       "    </tr>\n",
       "    <tr>\n",
       "      <th>9</th>\n",
       "      <td>202210</td>\n",
       "      <td>South East Stars</td>\n",
       "      <td>Thunder</td>\n",
       "      <td>South East Stars</td>\n",
       "      <td>South East Stars</td>\n",
       "      <td>South East Stars</td>\n",
       "      <td>South East Stars</td>\n",
       "      <td>South East Stars</td>\n",
       "      <td>True</td>\n",
       "      <td>True</td>\n",
       "      <td>True</td>\n",
       "      <td>True</td>\n",
       "    </tr>\n",
       "    <tr>\n",
       "      <th>10</th>\n",
       "      <td>202211</td>\n",
       "      <td>Sunrisers</td>\n",
       "      <td>Western Storm</td>\n",
       "      <td>Western Storm</td>\n",
       "      <td>Lightning</td>\n",
       "      <td>Lightning</td>\n",
       "      <td>Lightning</td>\n",
       "      <td>Western Storm</td>\n",
       "      <td>False</td>\n",
       "      <td>False</td>\n",
       "      <td>False</td>\n",
       "      <td>True</td>\n",
       "    </tr>\n",
       "    <tr>\n",
       "      <th>11</th>\n",
       "      <td>202212</td>\n",
       "      <td>Southern Vipers</td>\n",
       "      <td>Lightning</td>\n",
       "      <td>Southern Vipers</td>\n",
       "      <td>Southern Vipers</td>\n",
       "      <td>Southern Vipers</td>\n",
       "      <td>Southern Vipers</td>\n",
       "      <td>Southern Vipers</td>\n",
       "      <td>True</td>\n",
       "      <td>True</td>\n",
       "      <td>True</td>\n",
       "      <td>True</td>\n",
       "    </tr>\n",
       "    <tr>\n",
       "      <th>12</th>\n",
       "      <td>202213</td>\n",
       "      <td>Southern Vipers</td>\n",
       "      <td>Sunrisers</td>\n",
       "      <td>Southern Vipers</td>\n",
       "      <td>Southern Vipers</td>\n",
       "      <td>Southern Vipers</td>\n",
       "      <td>Southern Vipers</td>\n",
       "      <td>Southern Vipers</td>\n",
       "      <td>True</td>\n",
       "      <td>True</td>\n",
       "      <td>True</td>\n",
       "      <td>True</td>\n",
       "    </tr>\n",
       "    <tr>\n",
       "      <th>13</th>\n",
       "      <td>202214</td>\n",
       "      <td>South East Stars</td>\n",
       "      <td>Western Storm</td>\n",
       "      <td>South East Stars</td>\n",
       "      <td>South East Stars</td>\n",
       "      <td>South East Stars</td>\n",
       "      <td>Western Storm</td>\n",
       "      <td>Western Storm</td>\n",
       "      <td>True</td>\n",
       "      <td>True</td>\n",
       "      <td>False</td>\n",
       "      <td>False</td>\n",
       "    </tr>\n",
       "    <tr>\n",
       "      <th>14</th>\n",
       "      <td>202215</td>\n",
       "      <td>Lightning</td>\n",
       "      <td>Northern Diamonds</td>\n",
       "      <td>Northern Diamonds</td>\n",
       "      <td>Northern Diamonds</td>\n",
       "      <td>Northern Diamonds</td>\n",
       "      <td>Northern Diamonds</td>\n",
       "      <td>Northern Diamonds</td>\n",
       "      <td>True</td>\n",
       "      <td>True</td>\n",
       "      <td>True</td>\n",
       "      <td>True</td>\n",
       "    </tr>\n",
       "    <tr>\n",
       "      <th>15</th>\n",
       "      <td>202216</td>\n",
       "      <td>Thunder</td>\n",
       "      <td>Central Sparks</td>\n",
       "      <td>Thunder</td>\n",
       "      <td>Central Sparks</td>\n",
       "      <td>Thunder</td>\n",
       "      <td>Central Sparks</td>\n",
       "      <td>Central Sparks</td>\n",
       "      <td>False</td>\n",
       "      <td>True</td>\n",
       "      <td>False</td>\n",
       "      <td>False</td>\n",
       "    </tr>\n",
       "  </tbody>\n",
       "</table>\n",
       "</div>"
      ],
      "text/plain": [
       "    match_id              Team1              Team2      Actual Winner  \\\n",
       "0     202201     Central Sparks    Southern Vipers    Southern Vipers   \n",
       "1     202202   South East Stars          Sunrisers   South East Stars   \n",
       "2     202203      Western Storm          Lightning      Western Storm   \n",
       "3     202204  Northern Diamonds            Thunder  Northern Diamonds   \n",
       "4     202205     Central Sparks      Western Storm     Central Sparks   \n",
       "5     202206  Northern Diamonds          Sunrisers  Northern Diamonds   \n",
       "6     202207            Thunder          Lightning          Lightning   \n",
       "7     202208    Southern Vipers   South East Stars    Southern Vipers   \n",
       "8     202209     Central Sparks  Northern Diamonds  Northern Diamonds   \n",
       "9     202210   South East Stars            Thunder   South East Stars   \n",
       "10    202211          Sunrisers      Western Storm      Western Storm   \n",
       "11    202212    Southern Vipers          Lightning    Southern Vipers   \n",
       "12    202213    Southern Vipers          Sunrisers    Southern Vipers   \n",
       "13    202214   South East Stars      Western Storm   South East Stars   \n",
       "14    202215          Lightning  Northern Diamonds  Northern Diamonds   \n",
       "15    202216            Thunder     Central Sparks            Thunder   \n",
       "\n",
       "   Predicted Winner LSVC Predicted Winner LSVC2 Predicted Winner LSVC3  \\\n",
       "0         Central Sparks         Central Sparks         Central Sparks   \n",
       "1       South East Stars       South East Stars       South East Stars   \n",
       "2          Western Storm          Western Storm          Western Storm   \n",
       "3      Northern Diamonds      Northern Diamonds      Northern Diamonds   \n",
       "4         Central Sparks         Central Sparks         Central Sparks   \n",
       "5      Northern Diamonds      Northern Diamonds      Northern Diamonds   \n",
       "6                Thunder                Thunder                Thunder   \n",
       "7        Southern Vipers        Southern Vipers        Southern Vipers   \n",
       "8      Northern Diamonds      Northern Diamonds      Northern Diamonds   \n",
       "9       South East Stars       South East Stars       South East Stars   \n",
       "10             Lightning              Lightning              Lightning   \n",
       "11       Southern Vipers        Southern Vipers        Southern Vipers   \n",
       "12       Southern Vipers        Southern Vipers        Southern Vipers   \n",
       "13      South East Stars       South East Stars          Western Storm   \n",
       "14     Northern Diamonds      Northern Diamonds      Northern Diamonds   \n",
       "15        Central Sparks                Thunder         Central Sparks   \n",
       "\n",
       "   Predicted Winner LSVC boots  Predictions LSVC  Predictions LSVC2  \\\n",
       "0               Central Sparks             False              False   \n",
       "1             South East Stars              True               True   \n",
       "2                Western Storm              True               True   \n",
       "3            Northern Diamonds              True               True   \n",
       "4               Central Sparks              True               True   \n",
       "5            Northern Diamonds              True               True   \n",
       "6                      Thunder             False              False   \n",
       "7              Southern Vipers              True               True   \n",
       "8            Northern Diamonds              True               True   \n",
       "9             South East Stars              True               True   \n",
       "10               Western Storm             False              False   \n",
       "11             Southern Vipers              True               True   \n",
       "12             Southern Vipers              True               True   \n",
       "13               Western Storm              True               True   \n",
       "14           Northern Diamonds              True               True   \n",
       "15              Central Sparks             False               True   \n",
       "\n",
       "    Predictions LSVC3  Predictions LSVC boots  \n",
       "0               False                   False  \n",
       "1                True                    True  \n",
       "2                True                    True  \n",
       "3                True                    True  \n",
       "4                True                    True  \n",
       "5                True                    True  \n",
       "6               False                   False  \n",
       "7                True                    True  \n",
       "8                True                    True  \n",
       "9                True                    True  \n",
       "10              False                    True  \n",
       "11               True                    True  \n",
       "12               True                    True  \n",
       "13              False                   False  \n",
       "14               True                    True  \n",
       "15              False                   False  "
      ]
     },
     "execution_count": 221,
     "metadata": {},
     "output_type": "execute_result"
    }
   ],
   "source": [
    "predictions2022"
   ]
  },
  {
   "cell_type": "code",
   "execution_count": 222,
   "id": "26515180",
   "metadata": {},
   "outputs": [
    {
     "data": {
      "image/png": "[encoded data removed]",
      "text/plain": [
       "<Figure size 648x216 with 3 Axes>"
      ]
     },
     "metadata": {},
     "output_type": "display_data"
    }
   ],
   "source": [
    "fig,ax = plt.subplots(nrows=1, ncols=3, figsize=(9, 3))\n",
    "fig.suptitle('LSVC model:2022 Matches Winner Predictions based on Scores', fontsize=12)\n",
    "\n",
    "\n",
    "plt.subplot(1,3,1).set(title='LSVC model v1\\n75%-25% train-test split')\n",
    "ax=predictions2022['Predictions LSVC'].value_counts().plot.pie(autopct=\"%.0f%%\",startangle=60,\n",
    "                                                                 colors=['lightgreen','lightcoral'])\n",
    "ax.set_ylabel(None)\n",
    "\n",
    "plt.subplot(1,3,2).set(title='LSVC model v2\\n70%-30% train-test split')\n",
    "ax=predictions2022['Predictions LSVC2'].value_counts().plot.pie(autopct=\"%.0f%%\",startangle=60,\n",
    "                                                                 colors=['lightgreen','lightcoral'])\n",
    "ax.set_ylabel(None)\n",
    "\n",
    "plt.subplot(1,3,3).set(title='LSVC model v3\\n80%-20% train-test split')\n",
    "ax=predictions2022['Predictions LSVC3'].value_counts().plot.pie(autopct=\"%.0f%%\",startangle=60,\n",
    "                                                                 colors=['lightgreen','lightcoral'])\n",
    "ax.set_ylabel(None)\n",
    "\n",
    "plt.tight_layout()\n",
    "plt.savefig('C:/Users/DELL/Cricdata/LSVC2022predictions.jpeg',bbox_inches='tight')\n",
    "plt.show()"
   ]
  },
  {
   "cell_type": "code",
   "execution_count": 223,
   "id": "f51bc0cd",
   "metadata": {},
   "outputs": [
    {
     "data": {
      "image/png": "[encoded data removed]",
      "text/plain": [
       "<Figure size 216x216 with 1 Axes>"
      ]
     },
     "metadata": {},
     "output_type": "display_data"
    }
   ],
   "source": [
    "fig,ax = plt.subplots(nrows=1, ncols=1, figsize=(3,3))\n",
    "fig.suptitle('LSVC model:2022 Matches Winner Predictions based on Scores', fontsize=10)\n",
    "\n",
    "plt.title('LSVC model (bootstrap sampled)',fontsize=10)\n",
    "ax=predictions2022['Predictions LSVC boots'].value_counts().plot.pie(autopct=\"%.1f%%\",startangle=60,\n",
    "                                                                 colors=['lightgreen','lightcoral'])\n",
    "ax.set_ylabel(None)\n",
    "\n",
    "plt.tight_layout()\n",
    "plt.savefig('C:/Users/DELL/Cricdata/LSVC2022predictions_boots.jpeg',bbox_inches='tight')\n",
    "plt.show()"
   ]
  },
  {
   "cell_type": "markdown",
   "id": "33dc10df",
   "metadata": {},
   "source": [
    "The three versions of Linear SVC models were finally used to predict the winners of the 16 matches for the 2022 session and the predictions were then compared with the actual results. It was observed that the model version with 70%-30% train-test split got 81% of the winners right identifying 13 out of 16 winners correctly. The model with 75%-25% train-test split predicted 12 winners correctly while the third version predicted 11 correctly. \n",
    "\n",
    "For the bootstrap sampled model, 75% of the predictions were found to be correct and the outcome was similar to the Linear SVC model version with 75%-25% train-test split.  "
   ]
  },
  {
   "cell_type": "markdown",
   "id": "fb71f87d",
   "metadata": {},
   "source": [
    "<h2 align=\"center\">Predicting winners based on toss outcome</h2>"
   ]
  },
  {
   "cell_type": "markdown",
   "id": "29b18fb7",
   "metadata": {},
   "source": [
    "In this approach, instead of batting and bowling scores, the toss winners and toss decisions at the beginning of the matches are used as feature variables to check how indicative they are in determining the target variables, winning teams at the end of the matches. One-hot encoding was applied to the categorical feature variables for numerical representation.  "
   ]
  },
  {
   "cell_type": "markdown",
   "id": "eb13859c",
   "metadata": {},
   "source": [
    "#### Data Preparation"
   ]
  },
  {
   "cell_type": "code",
   "execution_count": 228,
   "id": "ed83fe3f",
   "metadata": {},
   "outputs": [
    {
     "data": {
      "text/html": [
       "<div>\n",
       "<style scoped>\n",
       "    .dataframe tbody tr th:only-of-type {\n",
       "        vertical-align: middle;\n",
       "    }\n",
       "\n",
       "    .dataframe tbody tr th {\n",
       "        vertical-align: top;\n",
       "    }\n",
       "\n",
       "    .dataframe thead th {\n",
       "        text-align: right;\n",
       "    }\n",
       "</style>\n",
       "<table border=\"1\" class=\"dataframe\">\n",
       "  <thead>\n",
       "    <tr style=\"text-align: right;\">\n",
       "      <th></th>\n",
       "      <th>match_id</th>\n",
       "      <th>Team1</th>\n",
       "      <th>Team2</th>\n",
       "      <th>Season</th>\n",
       "      <th>Date</th>\n",
       "      <th>Venue</th>\n",
       "      <th>Toss_Winner</th>\n",
       "      <th>Toss_Decision</th>\n",
       "      <th>Winner</th>\n",
       "      <th>Winning_Margin</th>\n",
       "      <th>ByWickets</th>\n",
       "      <th>ByRuns</th>\n",
       "    </tr>\n",
       "  </thead>\n",
       "  <tbody>\n",
       "    <tr>\n",
       "      <th>0</th>\n",
       "      <td>1229326</td>\n",
       "      <td>Sunrisers</td>\n",
       "      <td>Southern Vipers</td>\n",
       "      <td>2020</td>\n",
       "      <td>29-08-2020</td>\n",
       "      <td>Chelmsford</td>\n",
       "      <td>Southern Vipers</td>\n",
       "      <td>field</td>\n",
       "      <td>Southern Vipers</td>\n",
       "      <td>7</td>\n",
       "      <td>Y</td>\n",
       "      <td>N</td>\n",
       "    </tr>\n",
       "    <tr>\n",
       "      <th>1</th>\n",
       "      <td>1229327</td>\n",
       "      <td>Central Sparks</td>\n",
       "      <td>Northern Diamonds</td>\n",
       "      <td>2020</td>\n",
       "      <td>29-08-2020</td>\n",
       "      <td>Birmingham</td>\n",
       "      <td>Central Sparks</td>\n",
       "      <td>bat</td>\n",
       "      <td>Northern Diamonds</td>\n",
       "      <td>9</td>\n",
       "      <td>Y</td>\n",
       "      <td>N</td>\n",
       "    </tr>\n",
       "    <tr>\n",
       "      <th>2</th>\n",
       "      <td>1229328</td>\n",
       "      <td>Thunder</td>\n",
       "      <td>Lightning</td>\n",
       "      <td>2020</td>\n",
       "      <td>29-08-2020</td>\n",
       "      <td>Nottingham</td>\n",
       "      <td>Thunder</td>\n",
       "      <td>bat</td>\n",
       "      <td>Thunder</td>\n",
       "      <td>4</td>\n",
       "      <td>N</td>\n",
       "      <td>Y</td>\n",
       "    </tr>\n",
       "    <tr>\n",
       "      <th>3</th>\n",
       "      <td>1229329</td>\n",
       "      <td>South East Stars</td>\n",
       "      <td>Western Storm</td>\n",
       "      <td>2020</td>\n",
       "      <td>29-08-2020</td>\n",
       "      <td>Beckenham</td>\n",
       "      <td>Western Storm</td>\n",
       "      <td>field</td>\n",
       "      <td>Western Storm</td>\n",
       "      <td>6</td>\n",
       "      <td>Y</td>\n",
       "      <td>N</td>\n",
       "    </tr>\n",
       "    <tr>\n",
       "      <th>4</th>\n",
       "      <td>1229330</td>\n",
       "      <td>Southern Vipers</td>\n",
       "      <td>Western Storm</td>\n",
       "      <td>2020</td>\n",
       "      <td>31-08-2020</td>\n",
       "      <td>Bristol</td>\n",
       "      <td>Western Storm</td>\n",
       "      <td>field</td>\n",
       "      <td>Southern Vipers</td>\n",
       "      <td>22</td>\n",
       "      <td>N</td>\n",
       "      <td>Y</td>\n",
       "    </tr>\n",
       "  </tbody>\n",
       "</table>\n",
       "</div>"
      ],
      "text/plain": [
       "   match_id             Team1              Team2  Season        Date  \\\n",
       "0   1229326         Sunrisers    Southern Vipers    2020  29-08-2020   \n",
       "1   1229327    Central Sparks  Northern Diamonds    2020  29-08-2020   \n",
       "2   1229328           Thunder          Lightning    2020  29-08-2020   \n",
       "3   1229329  South East Stars      Western Storm    2020  29-08-2020   \n",
       "4   1229330   Southern Vipers      Western Storm    2020  31-08-2020   \n",
       "\n",
       "        Venue      Toss_Winner Toss_Decision             Winner  \\\n",
       "0  Chelmsford  Southern Vipers         field    Southern Vipers   \n",
       "1  Birmingham   Central Sparks           bat  Northern Diamonds   \n",
       "2  Nottingham          Thunder           bat            Thunder   \n",
       "3   Beckenham    Western Storm         field      Western Storm   \n",
       "4     Bristol    Western Storm         field    Southern Vipers   \n",
       "\n",
       "   Winning_Margin ByWickets ByRuns  \n",
       "0               7         Y      N  \n",
       "1               9         Y      N  \n",
       "2               4         N      Y  \n",
       "3               6         Y      N  \n",
       "4              22         N      Y  "
      ]
     },
     "execution_count": 228,
     "metadata": {},
     "output_type": "execute_result"
    }
   ],
   "source": [
    "match_info = pd.read_csv('C:\\\\Users\\\\DELL\\\\Cricdata\\\\match_summary.csv')\n",
    "match_info.head()"
   ]
  },
  {
   "cell_type": "code",
   "execution_count": 229,
   "id": "b5211296",
   "metadata": {},
   "outputs": [
    {
     "data": {
      "text/plain": [
       "Index(['match_id', 'Team1', 'Team2', 'Season', 'Date', 'Venue', 'Toss_Winner',\n",
       "       'Toss_Decision', 'Winner', 'Winning_Margin', 'ByWickets', 'ByRuns'],\n",
       "      dtype='object')"
      ]
     },
     "execution_count": 229,
     "metadata": {},
     "output_type": "execute_result"
    }
   ],
   "source": [
    "match_info.columns"
   ]
  },
  {
   "cell_type": "code",
   "execution_count": 230,
   "id": "105f3250",
   "metadata": {},
   "outputs": [
    {
     "data": {
      "text/html": [
       "<div>\n",
       "<style scoped>\n",
       "    .dataframe tbody tr th:only-of-type {\n",
       "        vertical-align: middle;\n",
       "    }\n",
       "\n",
       "    .dataframe tbody tr th {\n",
       "        vertical-align: top;\n",
       "    }\n",
       "\n",
       "    .dataframe thead th {\n",
       "        text-align: right;\n",
       "    }\n",
       "</style>\n",
       "<table border=\"1\" class=\"dataframe\">\n",
       "  <thead>\n",
       "    <tr style=\"text-align: right;\">\n",
       "      <th></th>\n",
       "      <th>Team1</th>\n",
       "      <th>Team2</th>\n",
       "      <th>Toss_Winner</th>\n",
       "      <th>Toss_Decision</th>\n",
       "      <th>Winner</th>\n",
       "    </tr>\n",
       "  </thead>\n",
       "  <tbody>\n",
       "    <tr>\n",
       "      <th>0</th>\n",
       "      <td>Sunrisers</td>\n",
       "      <td>Southern Vipers</td>\n",
       "      <td>Southern Vipers</td>\n",
       "      <td>field</td>\n",
       "      <td>Southern Vipers</td>\n",
       "    </tr>\n",
       "    <tr>\n",
       "      <th>1</th>\n",
       "      <td>Central Sparks</td>\n",
       "      <td>Northern Diamonds</td>\n",
       "      <td>Central Sparks</td>\n",
       "      <td>bat</td>\n",
       "      <td>Northern Diamonds</td>\n",
       "    </tr>\n",
       "    <tr>\n",
       "      <th>2</th>\n",
       "      <td>Thunder</td>\n",
       "      <td>Lightning</td>\n",
       "      <td>Thunder</td>\n",
       "      <td>bat</td>\n",
       "      <td>Thunder</td>\n",
       "    </tr>\n",
       "    <tr>\n",
       "      <th>3</th>\n",
       "      <td>South East Stars</td>\n",
       "      <td>Western Storm</td>\n",
       "      <td>Western Storm</td>\n",
       "      <td>field</td>\n",
       "      <td>Western Storm</td>\n",
       "    </tr>\n",
       "    <tr>\n",
       "      <th>4</th>\n",
       "      <td>Southern Vipers</td>\n",
       "      <td>Western Storm</td>\n",
       "      <td>Western Storm</td>\n",
       "      <td>field</td>\n",
       "      <td>Southern Vipers</td>\n",
       "    </tr>\n",
       "  </tbody>\n",
       "</table>\n",
       "</div>"
      ],
      "text/plain": [
       "              Team1              Team2      Toss_Winner Toss_Decision  \\\n",
       "0         Sunrisers    Southern Vipers  Southern Vipers         field   \n",
       "1    Central Sparks  Northern Diamonds   Central Sparks           bat   \n",
       "2           Thunder          Lightning          Thunder           bat   \n",
       "3  South East Stars      Western Storm    Western Storm         field   \n",
       "4   Southern Vipers      Western Storm    Western Storm         field   \n",
       "\n",
       "              Winner  \n",
       "0    Southern Vipers  \n",
       "1  Northern Diamonds  \n",
       "2            Thunder  \n",
       "3      Western Storm  \n",
       "4    Southern Vipers  "
      ]
     },
     "execution_count": 230,
     "metadata": {},
     "output_type": "execute_result"
    }
   ],
   "source": [
    "match_toss_info = match_info[['Team1', 'Team2','Toss_Winner','Toss_Decision','Winner']]\n",
    "match_toss_info.head()"
   ]
  },
  {
   "cell_type": "code",
   "execution_count": 231,
   "id": "7e48aa74",
   "metadata": {},
   "outputs": [],
   "source": [
    "match_toss_info_v1 = pd.get_dummies(match_toss_info, columns=['Team1', 'Team2','Toss_Winner','Toss_Decision'])"
   ]
  },
  {
   "cell_type": "code",
   "execution_count": 232,
   "id": "a7f48732",
   "metadata": {},
   "outputs": [],
   "source": [
    "X_toss = match_toss_info_v1 .drop('Winner',axis=1)\n",
    "y_toss = match_toss_info_v1[\"Winner\"]"
   ]
  },
  {
   "cell_type": "code",
   "execution_count": 233,
   "id": "611b3433",
   "metadata": {},
   "outputs": [
    {
     "data": {
      "text/plain": [
       "Index(['Team1_Central Sparks', 'Team1_Lightning', 'Team1_Northern Diamonds',\n",
       "       'Team1_South East Stars', 'Team1_Southern Vipers', 'Team1_Sunrisers',\n",
       "       'Team1_Thunder', 'Team1_Western Storm', 'Team2_Central Sparks',\n",
       "       'Team2_Lightning', 'Team2_Northern Diamonds', 'Team2_South East Stars',\n",
       "       'Team2_Southern Vipers', 'Team2_Sunrisers', 'Team2_Thunder',\n",
       "       'Team2_Western Storm', 'Toss_Winner_Central Sparks',\n",
       "       'Toss_Winner_Lightning', 'Toss_Winner_Northern Diamonds',\n",
       "       'Toss_Winner_South East Stars', 'Toss_Winner_Southern Vipers',\n",
       "       'Toss_Winner_Sunrisers', 'Toss_Winner_Thunder',\n",
       "       'Toss_Winner_Western Storm', 'Toss_Decision_bat',\n",
       "       'Toss_Decision_field'],\n",
       "      dtype='object')"
      ]
     },
     "execution_count": 233,
     "metadata": {},
     "output_type": "execute_result"
    }
   ],
   "source": [
    "X_toss.columns"
   ]
  },
  {
   "cell_type": "code",
   "execution_count": 234,
   "id": "d95b41da",
   "metadata": {},
   "outputs": [
    {
     "data": {
      "text/html": [
       "<div>\n",
       "<style scoped>\n",
       "    .dataframe tbody tr th:only-of-type {\n",
       "        vertical-align: middle;\n",
       "    }\n",
       "\n",
       "    .dataframe tbody tr th {\n",
       "        vertical-align: top;\n",
       "    }\n",
       "\n",
       "    .dataframe thead th {\n",
       "        text-align: right;\n",
       "    }\n",
       "</style>\n",
       "<table border=\"1\" class=\"dataframe\">\n",
       "  <thead>\n",
       "    <tr style=\"text-align: right;\">\n",
       "      <th></th>\n",
       "      <th>match_id</th>\n",
       "      <th>Team1</th>\n",
       "      <th>Team2</th>\n",
       "      <th>Season</th>\n",
       "      <th>Toss_Winner</th>\n",
       "      <th>Toss_Decision</th>\n",
       "      <th>Winner</th>\n",
       "      <th>Winning_Margin</th>\n",
       "      <th>ByWickets</th>\n",
       "      <th>ByRuns</th>\n",
       "    </tr>\n",
       "  </thead>\n",
       "  <tbody>\n",
       "    <tr>\n",
       "      <th>0</th>\n",
       "      <td>202201</td>\n",
       "      <td>Central Sparks</td>\n",
       "      <td>Southern Vipers</td>\n",
       "      <td>2022</td>\n",
       "      <td>Southern Vipers</td>\n",
       "      <td>field</td>\n",
       "      <td>Southern Vipers</td>\n",
       "      <td>7</td>\n",
       "      <td>Y</td>\n",
       "      <td>N</td>\n",
       "    </tr>\n",
       "    <tr>\n",
       "      <th>1</th>\n",
       "      <td>202202</td>\n",
       "      <td>South East Stars</td>\n",
       "      <td>Sunrisers</td>\n",
       "      <td>2022</td>\n",
       "      <td>South East Stars</td>\n",
       "      <td>bat</td>\n",
       "      <td>South East Stars</td>\n",
       "      <td>80</td>\n",
       "      <td>N</td>\n",
       "      <td>Y</td>\n",
       "    </tr>\n",
       "    <tr>\n",
       "      <th>2</th>\n",
       "      <td>202203</td>\n",
       "      <td>Western Storm</td>\n",
       "      <td>Lightning</td>\n",
       "      <td>2022</td>\n",
       "      <td>Lightning</td>\n",
       "      <td>field</td>\n",
       "      <td>Western Storm</td>\n",
       "      <td>75</td>\n",
       "      <td>N</td>\n",
       "      <td>Y</td>\n",
       "    </tr>\n",
       "    <tr>\n",
       "      <th>3</th>\n",
       "      <td>202204</td>\n",
       "      <td>Northern Diamonds</td>\n",
       "      <td>Thunder</td>\n",
       "      <td>2022</td>\n",
       "      <td>Thunder</td>\n",
       "      <td>bat</td>\n",
       "      <td>Northern Diamonds</td>\n",
       "      <td>6</td>\n",
       "      <td>Y</td>\n",
       "      <td>N</td>\n",
       "    </tr>\n",
       "    <tr>\n",
       "      <th>4</th>\n",
       "      <td>202205</td>\n",
       "      <td>Central Sparks</td>\n",
       "      <td>Western Storm</td>\n",
       "      <td>2022</td>\n",
       "      <td>Central Sparks</td>\n",
       "      <td>bat</td>\n",
       "      <td>Central Sparks</td>\n",
       "      <td>22</td>\n",
       "      <td>N</td>\n",
       "      <td>Y</td>\n",
       "    </tr>\n",
       "  </tbody>\n",
       "</table>\n",
       "</div>"
      ],
      "text/plain": [
       "   match_id              Team1            Team2  Season       Toss_Winner  \\\n",
       "0    202201     Central Sparks  Southern Vipers    2022   Southern Vipers   \n",
       "1    202202   South East Stars        Sunrisers    2022  South East Stars   \n",
       "2    202203      Western Storm        Lightning    2022         Lightning   \n",
       "3    202204  Northern Diamonds          Thunder    2022           Thunder   \n",
       "4    202205     Central Sparks    Western Storm    2022    Central Sparks   \n",
       "\n",
       "  Toss_Decision             Winner  Winning_Margin ByWickets ByRuns  \n",
       "0         field    Southern Vipers               7         Y      N  \n",
       "1           bat   South East Stars              80         N      Y  \n",
       "2         field      Western Storm              75         N      Y  \n",
       "3           bat  Northern Diamonds               6         Y      N  \n",
       "4           bat     Central Sparks              22         N      Y  "
      ]
     },
     "execution_count": 234,
     "metadata": {},
     "output_type": "execute_result"
    }
   ],
   "source": [
    "match_info2022 = pd.read_csv('C:\\\\Users\\\\DELL\\\\Cricdata\\\\match_summary2022.csv')\n",
    "match_info2022.head()"
   ]
  },
  {
   "cell_type": "code",
   "execution_count": 235,
   "id": "d711e645",
   "metadata": {},
   "outputs": [
    {
     "data": {
      "text/plain": [
       "Index(['match_id', 'Team1', 'Team2', 'Season', 'Toss_Winner', 'Toss_Decision',\n",
       "       'Winner', 'Winning_Margin', 'ByWickets', 'ByRuns'],\n",
       "      dtype='object')"
      ]
     },
     "execution_count": 235,
     "metadata": {},
     "output_type": "execute_result"
    }
   ],
   "source": [
    "match_info2022.columns"
   ]
  },
  {
   "cell_type": "code",
   "execution_count": 236,
   "id": "1c1c0c08",
   "metadata": {},
   "outputs": [],
   "source": [
    "#form dummy variables for Team1 and Team2\n",
    "match_toss_info2022 = match_info2022[['Team1', 'Team2','Toss_Winner','Toss_Decision','Winner']]\n",
    "match_toss_info2022_v1 = pd.get_dummies(match_toss_info2022, columns=['Team1', 'Team2','Toss_Winner','Toss_Decision'])\n",
    "\n",
    "Xtoss_2022 = match_toss_info2022_v1.drop(['Winner'],axis=1)\n",
    "\n",
    "ytoss_2022 = match_toss_info2022_v1[\"Winner\"]"
   ]
  },
  {
   "cell_type": "code",
   "execution_count": 237,
   "id": "735805c1",
   "metadata": {},
   "outputs": [
    {
     "data": {
      "text/plain": [
       "Index(['Team1_Central Sparks', 'Team1_Lightning', 'Team1_Northern Diamonds',\n",
       "       'Team1_South East Stars', 'Team1_Southern Vipers', 'Team1_Sunrisers',\n",
       "       'Team1_Thunder', 'Team1_Western Storm', 'Team2_Central Sparks',\n",
       "       'Team2_Lightning', 'Team2_Northern Diamonds', 'Team2_South East Stars',\n",
       "       'Team2_Southern Vipers', 'Team2_Sunrisers', 'Team2_Thunder',\n",
       "       'Team2_Western Storm', 'Toss_Winner_Central Sparks',\n",
       "       'Toss_Winner_Lightning', 'Toss_Winner_Northern Diamonds',\n",
       "       'Toss_Winner_South East Stars', 'Toss_Winner_Southern Vipers',\n",
       "       'Toss_Winner_Sunrisers', 'Toss_Winner_Thunder', 'Toss_Decision_bat',\n",
       "       'Toss_Decision_field'],\n",
       "      dtype='object')"
      ]
     },
     "execution_count": 237,
     "metadata": {},
     "output_type": "execute_result"
    }
   ],
   "source": [
    "Xtoss_2022.columns"
   ]
  },
  {
   "cell_type": "code",
   "execution_count": 238,
   "id": "06d5c316",
   "metadata": {},
   "outputs": [
    {
     "data": {
      "text/plain": [
       "{'Toss_Winner_Western Storm'}"
      ]
     },
     "execution_count": 238,
     "metadata": {},
     "output_type": "execute_result"
    }
   ],
   "source": [
    "set(X_toss.columns).difference(set(Xtoss_2022.columns))"
   ]
  },
  {
   "cell_type": "code",
   "execution_count": 239,
   "id": "956bdd19",
   "metadata": {},
   "outputs": [],
   "source": [
    "Xtoss_2022['Toss_Winner_Western Storm']=0"
   ]
  },
  {
   "cell_type": "code",
   "execution_count": 240,
   "id": "f8191e85",
   "metadata": {},
   "outputs": [
    {
     "data": {
      "text/html": [
       "<div>\n",
       "<style scoped>\n",
       "    .dataframe tbody tr th:only-of-type {\n",
       "        vertical-align: middle;\n",
       "    }\n",
       "\n",
       "    .dataframe tbody tr th {\n",
       "        vertical-align: top;\n",
       "    }\n",
       "\n",
       "    .dataframe thead th {\n",
       "        text-align: right;\n",
       "    }\n",
       "</style>\n",
       "<table border=\"1\" class=\"dataframe\">\n",
       "  <thead>\n",
       "    <tr style=\"text-align: right;\">\n",
       "      <th></th>\n",
       "      <th>Team1_Central Sparks</th>\n",
       "      <th>Team1_Lightning</th>\n",
       "      <th>Team1_Northern Diamonds</th>\n",
       "      <th>Team1_South East Stars</th>\n",
       "      <th>Team1_Southern Vipers</th>\n",
       "      <th>Team1_Sunrisers</th>\n",
       "      <th>Team1_Thunder</th>\n",
       "      <th>Team1_Western Storm</th>\n",
       "      <th>Team2_Central Sparks</th>\n",
       "      <th>Team2_Lightning</th>\n",
       "      <th>...</th>\n",
       "      <th>Toss_Winner_Central Sparks</th>\n",
       "      <th>Toss_Winner_Lightning</th>\n",
       "      <th>Toss_Winner_Northern Diamonds</th>\n",
       "      <th>Toss_Winner_South East Stars</th>\n",
       "      <th>Toss_Winner_Southern Vipers</th>\n",
       "      <th>Toss_Winner_Sunrisers</th>\n",
       "      <th>Toss_Winner_Thunder</th>\n",
       "      <th>Toss_Decision_bat</th>\n",
       "      <th>Toss_Decision_field</th>\n",
       "      <th>Toss_Winner_Western Storm</th>\n",
       "    </tr>\n",
       "  </thead>\n",
       "  <tbody>\n",
       "    <tr>\n",
       "      <th>0</th>\n",
       "      <td>1</td>\n",
       "      <td>0</td>\n",
       "      <td>0</td>\n",
       "      <td>0</td>\n",
       "      <td>0</td>\n",
       "      <td>0</td>\n",
       "      <td>0</td>\n",
       "      <td>0</td>\n",
       "      <td>0</td>\n",
       "      <td>0</td>\n",
       "      <td>...</td>\n",
       "      <td>0</td>\n",
       "      <td>0</td>\n",
       "      <td>0</td>\n",
       "      <td>0</td>\n",
       "      <td>1</td>\n",
       "      <td>0</td>\n",
       "      <td>0</td>\n",
       "      <td>0</td>\n",
       "      <td>1</td>\n",
       "      <td>0</td>\n",
       "    </tr>\n",
       "    <tr>\n",
       "      <th>1</th>\n",
       "      <td>0</td>\n",
       "      <td>0</td>\n",
       "      <td>0</td>\n",
       "      <td>1</td>\n",
       "      <td>0</td>\n",
       "      <td>0</td>\n",
       "      <td>0</td>\n",
       "      <td>0</td>\n",
       "      <td>0</td>\n",
       "      <td>0</td>\n",
       "      <td>...</td>\n",
       "      <td>0</td>\n",
       "      <td>0</td>\n",
       "      <td>0</td>\n",
       "      <td>1</td>\n",
       "      <td>0</td>\n",
       "      <td>0</td>\n",
       "      <td>0</td>\n",
       "      <td>1</td>\n",
       "      <td>0</td>\n",
       "      <td>0</td>\n",
       "    </tr>\n",
       "    <tr>\n",
       "      <th>2</th>\n",
       "      <td>0</td>\n",
       "      <td>0</td>\n",
       "      <td>0</td>\n",
       "      <td>0</td>\n",
       "      <td>0</td>\n",
       "      <td>0</td>\n",
       "      <td>0</td>\n",
       "      <td>1</td>\n",
       "      <td>0</td>\n",
       "      <td>1</td>\n",
       "      <td>...</td>\n",
       "      <td>0</td>\n",
       "      <td>1</td>\n",
       "      <td>0</td>\n",
       "      <td>0</td>\n",
       "      <td>0</td>\n",
       "      <td>0</td>\n",
       "      <td>0</td>\n",
       "      <td>0</td>\n",
       "      <td>1</td>\n",
       "      <td>0</td>\n",
       "    </tr>\n",
       "    <tr>\n",
       "      <th>3</th>\n",
       "      <td>0</td>\n",
       "      <td>0</td>\n",
       "      <td>1</td>\n",
       "      <td>0</td>\n",
       "      <td>0</td>\n",
       "      <td>0</td>\n",
       "      <td>0</td>\n",
       "      <td>0</td>\n",
       "      <td>0</td>\n",
       "      <td>0</td>\n",
       "      <td>...</td>\n",
       "      <td>0</td>\n",
       "      <td>0</td>\n",
       "      <td>0</td>\n",
       "      <td>0</td>\n",
       "      <td>0</td>\n",
       "      <td>0</td>\n",
       "      <td>1</td>\n",
       "      <td>1</td>\n",
       "      <td>0</td>\n",
       "      <td>0</td>\n",
       "    </tr>\n",
       "    <tr>\n",
       "      <th>4</th>\n",
       "      <td>1</td>\n",
       "      <td>0</td>\n",
       "      <td>0</td>\n",
       "      <td>0</td>\n",
       "      <td>0</td>\n",
       "      <td>0</td>\n",
       "      <td>0</td>\n",
       "      <td>0</td>\n",
       "      <td>0</td>\n",
       "      <td>0</td>\n",
       "      <td>...</td>\n",
       "      <td>1</td>\n",
       "      <td>0</td>\n",
       "      <td>0</td>\n",
       "      <td>0</td>\n",
       "      <td>0</td>\n",
       "      <td>0</td>\n",
       "      <td>0</td>\n",
       "      <td>1</td>\n",
       "      <td>0</td>\n",
       "      <td>0</td>\n",
       "    </tr>\n",
       "  </tbody>\n",
       "</table>\n",
       "<p>5 rows × 26 columns</p>\n",
       "</div>"
      ],
      "text/plain": [
       "   Team1_Central Sparks  Team1_Lightning  Team1_Northern Diamonds  \\\n",
       "0                     1                0                        0   \n",
       "1                     0                0                        0   \n",
       "2                     0                0                        0   \n",
       "3                     0                0                        1   \n",
       "4                     1                0                        0   \n",
       "\n",
       "   Team1_South East Stars  Team1_Southern Vipers  Team1_Sunrisers  \\\n",
       "0                       0                      0                0   \n",
       "1                       1                      0                0   \n",
       "2                       0                      0                0   \n",
       "3                       0                      0                0   \n",
       "4                       0                      0                0   \n",
       "\n",
       "   Team1_Thunder  Team1_Western Storm  Team2_Central Sparks  Team2_Lightning  \\\n",
       "0              0                    0                     0                0   \n",
       "1              0                    0                     0                0   \n",
       "2              0                    1                     0                1   \n",
       "3              0                    0                     0                0   \n",
       "4              0                    0                     0                0   \n",
       "\n",
       "   ...  Toss_Winner_Central Sparks  Toss_Winner_Lightning  \\\n",
       "0  ...                           0                      0   \n",
       "1  ...                           0                      0   \n",
       "2  ...                           0                      1   \n",
       "3  ...                           0                      0   \n",
       "4  ...                           1                      0   \n",
       "\n",
       "   Toss_Winner_Northern Diamonds  Toss_Winner_South East Stars  \\\n",
       "0                              0                             0   \n",
       "1                              0                             1   \n",
       "2                              0                             0   \n",
       "3                              0                             0   \n",
       "4                              0                             0   \n",
       "\n",
       "   Toss_Winner_Southern Vipers  Toss_Winner_Sunrisers  Toss_Winner_Thunder  \\\n",
       "0                            1                      0                    0   \n",
       "1                            0                      0                    0   \n",
       "2                            0                      0                    0   \n",
       "3                            0                      0                    1   \n",
       "4                            0                      0                    0   \n",
       "\n",
       "   Toss_Decision_bat  Toss_Decision_field  Toss_Winner_Western Storm  \n",
       "0                  0                    1                          0  \n",
       "1                  1                    0                          0  \n",
       "2                  0                    1                          0  \n",
       "3                  1                    0                          0  \n",
       "4                  1                    0                          0  \n",
       "\n",
       "[5 rows x 26 columns]"
      ]
     },
     "execution_count": 240,
     "metadata": {},
     "output_type": "execute_result"
    }
   ],
   "source": [
    "Xtoss_2022.head()"
   ]
  },
  {
   "cell_type": "code",
   "execution_count": 241,
   "id": "903379a5",
   "metadata": {},
   "outputs": [
    {
     "data": {
      "text/html": [
       "<div>\n",
       "<style scoped>\n",
       "    .dataframe tbody tr th:only-of-type {\n",
       "        vertical-align: middle;\n",
       "    }\n",
       "\n",
       "    .dataframe tbody tr th {\n",
       "        vertical-align: top;\n",
       "    }\n",
       "\n",
       "    .dataframe thead th {\n",
       "        text-align: right;\n",
       "    }\n",
       "</style>\n",
       "<table border=\"1\" class=\"dataframe\">\n",
       "  <thead>\n",
       "    <tr style=\"text-align: right;\">\n",
       "      <th></th>\n",
       "      <th>match_id</th>\n",
       "      <th>Winner</th>\n",
       "    </tr>\n",
       "  </thead>\n",
       "  <tbody>\n",
       "    <tr>\n",
       "      <th>0</th>\n",
       "      <td>202201</td>\n",
       "      <td>Southern Vipers</td>\n",
       "    </tr>\n",
       "    <tr>\n",
       "      <th>1</th>\n",
       "      <td>202202</td>\n",
       "      <td>South East Stars</td>\n",
       "    </tr>\n",
       "    <tr>\n",
       "      <th>2</th>\n",
       "      <td>202203</td>\n",
       "      <td>Western Storm</td>\n",
       "    </tr>\n",
       "    <tr>\n",
       "      <th>3</th>\n",
       "      <td>202204</td>\n",
       "      <td>Northern Diamonds</td>\n",
       "    </tr>\n",
       "    <tr>\n",
       "      <th>4</th>\n",
       "      <td>202205</td>\n",
       "      <td>Central Sparks</td>\n",
       "    </tr>\n",
       "  </tbody>\n",
       "</table>\n",
       "</div>"
      ],
      "text/plain": [
       "   match_id             Winner\n",
       "0    202201    Southern Vipers\n",
       "1    202202   South East Stars\n",
       "2    202203      Western Storm\n",
       "3    202204  Northern Diamonds\n",
       "4    202205     Central Sparks"
      ]
     },
     "execution_count": 241,
     "metadata": {},
     "output_type": "execute_result"
    }
   ],
   "source": [
    "winners_df2022=pd.read_csv(\"C:\\\\Users\\\\DELL\\\\Cricdata\\\\winners_df2022.csv\")\n",
    "winners_df2022.head()"
   ]
  },
  {
   "cell_type": "markdown",
   "id": "e6f8ff41",
   "metadata": {},
   "source": [
    "### Linear SVC Modelling "
   ]
  },
  {
   "cell_type": "markdown",
   "id": "accdb62d",
   "metadata": {},
   "source": [
    "Linear SVC estimator was used for modelling and different versions of the model were tried based on different train-splits. Another version of the model was also trained on bootstrapped sampled input data."
   ]
  },
  {
   "cell_type": "code",
   "execution_count": 242,
   "id": "1fdeb7f3",
   "metadata": {},
   "outputs": [
    {
     "name": "stdout",
     "output_type": "stream",
     "text": [
      "-------Linear SVC--------\n",
      "Test Size:  25.0\n",
      "Train Accuracy:  100.00\n",
      "Test Accuracy:  64.29%\n",
      "Cross-Validated Accuracy:71.15%\n",
      "Confusion Matrix: \n"
     ]
    },
    {
     "data": {
      "image/png": "[encoded data removed]",
      "text/plain": [
       "<Figure size 432x288 with 2 Axes>"
      ]
     },
     "metadata": {
      "needs_background": "light"
     },
     "output_type": "display_data"
    }
   ],
   "source": [
    "#Train-Test 75%-25%\n",
    "WinnerbyToss_LSVC=LSVC_model_function(X_toss,y_toss,0.25)"
   ]
  },
  {
   "cell_type": "code",
   "execution_count": 243,
   "id": "122ea419",
   "metadata": {},
   "outputs": [
    {
     "name": "stdout",
     "output_type": "stream",
     "text": [
      "-------Linear SVC--------\n",
      "Test Size:  30.0\n",
      "Train Accuracy:  100.00\n",
      "Test Accuracy:  41.18%\n",
      "Cross-Validated Accuracy:71.15%\n",
      "Confusion Matrix: \n"
     ]
    },
    {
     "data": {
      "image/png": "[encoded data removed]",
      "text/plain": [
       "<Figure size 432x288 with 2 Axes>"
      ]
     },
     "metadata": {
      "needs_background": "light"
     },
     "output_type": "display_data"
    }
   ],
   "source": [
    "#Train-Test 70%-30%\n",
    "WinnerbyToss_LSVC2=LSVC_model_function(X_toss,y_toss,0.3)"
   ]
  },
  {
   "cell_type": "code",
   "execution_count": 244,
   "id": "57e6a617",
   "metadata": {},
   "outputs": [
    {
     "name": "stdout",
     "output_type": "stream",
     "text": [
      "-------Linear SVC--------\n",
      "Test Size:  20.0\n",
      "Train Accuracy:  100.00\n",
      "Test Accuracy:  81.82%\n",
      "Cross-Validated Accuracy:71.15%\n",
      "Confusion Matrix: \n"
     ]
    },
    {
     "data": {
      "image/png": "[encoded data removed]",
      "text/plain": [
       "<Figure size 432x288 with 2 Axes>"
      ]
     },
     "metadata": {
      "needs_background": "light"
     },
     "output_type": "display_data"
    }
   ],
   "source": [
    "#Train-Test 80%-20%\n",
    "WinnerbyToss_LSVC3=LSVC_model_function(X_toss,y_toss,0.2)"
   ]
  },
  {
   "cell_type": "code",
   "execution_count": 245,
   "id": "fbf104d0",
   "metadata": {},
   "outputs": [],
   "source": [
    "WinnerbyToss_LSVC_boots=LSVC_model_function_bootstrapped(X_toss,y_toss,100)"
   ]
  },
  {
   "cell_type": "markdown",
   "id": "875256c6",
   "metadata": {},
   "source": [
    "### Check how the models works by analysing with the 2022 matches\n",
    "\n",
    "The models were used to predict the winners of 2022 matches and then the predicted winners were compared with the actual winners."
   ]
  },
  {
   "cell_type": "code",
   "execution_count": 246,
   "id": "e1ff2acb",
   "metadata": {},
   "outputs": [],
   "source": [
    "ytoss_pred2022_LSVC1 = WinnerbyToss_LSVC.predict(Xtoss_2022)\n",
    "ytoss_pred2022_LSVC2 = WinnerbyToss_LSVC2.predict(Xtoss_2022)\n",
    "ytoss_pred2022_LSVC3 = WinnerbyToss_LSVC3.predict(Xtoss_2022)\n",
    "ytoss_pred2022_LSVC1_boots = WinnerbyToss_LSVC_boots.predict(Xtoss_2022)"
   ]
  },
  {
   "cell_type": "code",
   "execution_count": 247,
   "id": "c1e98fee",
   "metadata": {},
   "outputs": [],
   "source": [
    "predictions2022_toss = pd.DataFrame(data={\"match_id\":winners_df2022['match_id'],\n",
    "                                     \"Team1\":match_toss_info2022['Team1'],\n",
    "                                     \"Team2\":match_toss_info2022['Team2'],\n",
    "                                     \"Actual Winner\":ytoss_2022,\n",
    "                                     \"Predicted Winner LSVC1\":ytoss_pred2022_LSVC1,\n",
    "                                     \"Predicted Winner LSVC2\":ytoss_pred2022_LSVC2,\n",
    "                                     \"Predicted Winner LSVC3\":ytoss_pred2022_LSVC3,\n",
    "                                     \"Predicted Winner LSVC1 boots\":ytoss_pred2022_LSVC1_boots})\n",
    "\n",
    "predictions2022_toss['Predictions LSVC1'] = (predictions2022_toss['Actual Winner']==predictions2022_toss['Predicted Winner LSVC1'])\n",
    "predictions2022_toss['Predictions LSVC2'] = (predictions2022_toss['Actual Winner']==predictions2022_toss['Predicted Winner LSVC2'])\n",
    "predictions2022_toss['Predictions LSVC3'] = (predictions2022_toss['Actual Winner']==predictions2022_toss['Predicted Winner LSVC3'])\n",
    "\n",
    "predictions2022_toss['Predictions LSVC1 boots'] = (predictions2022_toss['Actual Winner']==predictions2022_toss['Predicted Winner LSVC1 boots'])"
   ]
  },
  {
   "cell_type": "code",
   "execution_count": 248,
   "id": "af1631d7",
   "metadata": {},
   "outputs": [
    {
     "data": {
      "text/html": [
       "<div>\n",
       "<style scoped>\n",
       "    .dataframe tbody tr th:only-of-type {\n",
       "        vertical-align: middle;\n",
       "    }\n",
       "\n",
       "    .dataframe tbody tr th {\n",
       "        vertical-align: top;\n",
       "    }\n",
       "\n",
       "    .dataframe thead th {\n",
       "        text-align: right;\n",
       "    }\n",
       "</style>\n",
       "<table border=\"1\" class=\"dataframe\">\n",
       "  <thead>\n",
       "    <tr style=\"text-align: right;\">\n",
       "      <th></th>\n",
       "      <th>Team1</th>\n",
       "      <th>Team2</th>\n",
       "      <th>Actual Winner</th>\n",
       "      <th>Predictions LSVC1</th>\n",
       "      <th>Predictions LSVC2</th>\n",
       "      <th>Predictions LSVC3</th>\n",
       "      <th>Predictions LSVC1 boots</th>\n",
       "    </tr>\n",
       "  </thead>\n",
       "  <tbody>\n",
       "    <tr>\n",
       "      <th>0</th>\n",
       "      <td>Central Sparks</td>\n",
       "      <td>Southern Vipers</td>\n",
       "      <td>Southern Vipers</td>\n",
       "      <td>True</td>\n",
       "      <td>True</td>\n",
       "      <td>True</td>\n",
       "      <td>False</td>\n",
       "    </tr>\n",
       "    <tr>\n",
       "      <th>1</th>\n",
       "      <td>South East Stars</td>\n",
       "      <td>Sunrisers</td>\n",
       "      <td>South East Stars</td>\n",
       "      <td>True</td>\n",
       "      <td>True</td>\n",
       "      <td>True</td>\n",
       "      <td>True</td>\n",
       "    </tr>\n",
       "    <tr>\n",
       "      <th>2</th>\n",
       "      <td>Western Storm</td>\n",
       "      <td>Lightning</td>\n",
       "      <td>Western Storm</td>\n",
       "      <td>True</td>\n",
       "      <td>True</td>\n",
       "      <td>True</td>\n",
       "      <td>True</td>\n",
       "    </tr>\n",
       "    <tr>\n",
       "      <th>3</th>\n",
       "      <td>Northern Diamonds</td>\n",
       "      <td>Thunder</td>\n",
       "      <td>Northern Diamonds</td>\n",
       "      <td>True</td>\n",
       "      <td>True</td>\n",
       "      <td>True</td>\n",
       "      <td>True</td>\n",
       "    </tr>\n",
       "    <tr>\n",
       "      <th>4</th>\n",
       "      <td>Central Sparks</td>\n",
       "      <td>Western Storm</td>\n",
       "      <td>Central Sparks</td>\n",
       "      <td>True</td>\n",
       "      <td>True</td>\n",
       "      <td>True</td>\n",
       "      <td>True</td>\n",
       "    </tr>\n",
       "    <tr>\n",
       "      <th>5</th>\n",
       "      <td>Northern Diamonds</td>\n",
       "      <td>Sunrisers</td>\n",
       "      <td>Northern Diamonds</td>\n",
       "      <td>True</td>\n",
       "      <td>True</td>\n",
       "      <td>True</td>\n",
       "      <td>True</td>\n",
       "    </tr>\n",
       "    <tr>\n",
       "      <th>6</th>\n",
       "      <td>Thunder</td>\n",
       "      <td>Lightning</td>\n",
       "      <td>Lightning</td>\n",
       "      <td>False</td>\n",
       "      <td>False</td>\n",
       "      <td>False</td>\n",
       "      <td>False</td>\n",
       "    </tr>\n",
       "    <tr>\n",
       "      <th>7</th>\n",
       "      <td>Southern Vipers</td>\n",
       "      <td>South East Stars</td>\n",
       "      <td>Southern Vipers</td>\n",
       "      <td>True</td>\n",
       "      <td>True</td>\n",
       "      <td>True</td>\n",
       "      <td>True</td>\n",
       "    </tr>\n",
       "    <tr>\n",
       "      <th>8</th>\n",
       "      <td>Central Sparks</td>\n",
       "      <td>Northern Diamonds</td>\n",
       "      <td>Northern Diamonds</td>\n",
       "      <td>True</td>\n",
       "      <td>True</td>\n",
       "      <td>True</td>\n",
       "      <td>True</td>\n",
       "    </tr>\n",
       "    <tr>\n",
       "      <th>9</th>\n",
       "      <td>South East Stars</td>\n",
       "      <td>Thunder</td>\n",
       "      <td>South East Stars</td>\n",
       "      <td>True</td>\n",
       "      <td>True</td>\n",
       "      <td>True</td>\n",
       "      <td>True</td>\n",
       "    </tr>\n",
       "    <tr>\n",
       "      <th>10</th>\n",
       "      <td>Sunrisers</td>\n",
       "      <td>Western Storm</td>\n",
       "      <td>Western Storm</td>\n",
       "      <td>False</td>\n",
       "      <td>False</td>\n",
       "      <td>False</td>\n",
       "      <td>True</td>\n",
       "    </tr>\n",
       "    <tr>\n",
       "      <th>11</th>\n",
       "      <td>Southern Vipers</td>\n",
       "      <td>Lightning</td>\n",
       "      <td>Southern Vipers</td>\n",
       "      <td>True</td>\n",
       "      <td>True</td>\n",
       "      <td>True</td>\n",
       "      <td>True</td>\n",
       "    </tr>\n",
       "    <tr>\n",
       "      <th>12</th>\n",
       "      <td>Southern Vipers</td>\n",
       "      <td>Sunrisers</td>\n",
       "      <td>Southern Vipers</td>\n",
       "      <td>True</td>\n",
       "      <td>True</td>\n",
       "      <td>True</td>\n",
       "      <td>True</td>\n",
       "    </tr>\n",
       "    <tr>\n",
       "      <th>13</th>\n",
       "      <td>South East Stars</td>\n",
       "      <td>Western Storm</td>\n",
       "      <td>South East Stars</td>\n",
       "      <td>True</td>\n",
       "      <td>True</td>\n",
       "      <td>True</td>\n",
       "      <td>False</td>\n",
       "    </tr>\n",
       "    <tr>\n",
       "      <th>14</th>\n",
       "      <td>Lightning</td>\n",
       "      <td>Northern Diamonds</td>\n",
       "      <td>Northern Diamonds</td>\n",
       "      <td>True</td>\n",
       "      <td>True</td>\n",
       "      <td>True</td>\n",
       "      <td>True</td>\n",
       "    </tr>\n",
       "    <tr>\n",
       "      <th>15</th>\n",
       "      <td>Thunder</td>\n",
       "      <td>Central Sparks</td>\n",
       "      <td>Thunder</td>\n",
       "      <td>False</td>\n",
       "      <td>True</td>\n",
       "      <td>False</td>\n",
       "      <td>False</td>\n",
       "    </tr>\n",
       "  </tbody>\n",
       "</table>\n",
       "</div>"
      ],
      "text/plain": [
       "                Team1              Team2      Actual Winner  \\\n",
       "0      Central Sparks    Southern Vipers    Southern Vipers   \n",
       "1    South East Stars          Sunrisers   South East Stars   \n",
       "2       Western Storm          Lightning      Western Storm   \n",
       "3   Northern Diamonds            Thunder  Northern Diamonds   \n",
       "4      Central Sparks      Western Storm     Central Sparks   \n",
       "5   Northern Diamonds          Sunrisers  Northern Diamonds   \n",
       "6             Thunder          Lightning          Lightning   \n",
       "7     Southern Vipers   South East Stars    Southern Vipers   \n",
       "8      Central Sparks  Northern Diamonds  Northern Diamonds   \n",
       "9    South East Stars            Thunder   South East Stars   \n",
       "10          Sunrisers      Western Storm      Western Storm   \n",
       "11    Southern Vipers          Lightning    Southern Vipers   \n",
       "12    Southern Vipers          Sunrisers    Southern Vipers   \n",
       "13   South East Stars      Western Storm   South East Stars   \n",
       "14          Lightning  Northern Diamonds  Northern Diamonds   \n",
       "15            Thunder     Central Sparks            Thunder   \n",
       "\n",
       "    Predictions LSVC1  Predictions LSVC2  Predictions LSVC3  \\\n",
       "0                True               True               True   \n",
       "1                True               True               True   \n",
       "2                True               True               True   \n",
       "3                True               True               True   \n",
       "4                True               True               True   \n",
       "5                True               True               True   \n",
       "6               False              False              False   \n",
       "7                True               True               True   \n",
       "8                True               True               True   \n",
       "9                True               True               True   \n",
       "10              False              False              False   \n",
       "11               True               True               True   \n",
       "12               True               True               True   \n",
       "13               True               True               True   \n",
       "14               True               True               True   \n",
       "15              False               True              False   \n",
       "\n",
       "    Predictions LSVC1 boots  \n",
       "0                     False  \n",
       "1                      True  \n",
       "2                      True  \n",
       "3                      True  \n",
       "4                      True  \n",
       "5                      True  \n",
       "6                     False  \n",
       "7                      True  \n",
       "8                      True  \n",
       "9                      True  \n",
       "10                     True  \n",
       "11                     True  \n",
       "12                     True  \n",
       "13                    False  \n",
       "14                     True  \n",
       "15                    False  "
      ]
     },
     "execution_count": 248,
     "metadata": {},
     "output_type": "execute_result"
    }
   ],
   "source": [
    "predictions2022_toss[['Team1','Team2',\n",
    "                 'Actual Winner',\n",
    "                 'Predictions LSVC1',\n",
    "                 'Predictions LSVC2',\n",
    "                 'Predictions LSVC3',\n",
    "                 'Predictions LSVC1 boots']]"
   ]
  },
  {
   "cell_type": "code",
   "execution_count": 249,
   "id": "2d9f1648",
   "metadata": {},
   "outputs": [
    {
     "data": {
      "image/png": "[encoded data removed]",
      "text/plain": [
       "<Figure size 648x216 with 3 Axes>"
      ]
     },
     "metadata": {},
     "output_type": "display_data"
    }
   ],
   "source": [
    "fig,ax = plt.subplots(nrows=1, ncols=3, figsize=(9, 3))\n",
    "fig.suptitle('LSVC model:2022 Matches Winner Predictions based on Toss Outcome', fontsize=12)\n",
    "\n",
    "\n",
    "plt.subplot(1,3,1).set(title='LSVC model v1\\n75%-25% train-test split')\n",
    "ax=predictions2022_toss['Predictions LSVC1'].value_counts().plot.pie(autopct=\"%.0f%%\",startangle=60,\n",
    "                                                                 colors=['lightgreen','lightcoral'])\n",
    "ax.set_ylabel(None)\n",
    "\n",
    "plt.subplot(1,3,2).set(title='LSVC model v2\\n70%-30% train-test split')\n",
    "ax=predictions2022_toss['Predictions LSVC2'].value_counts().plot.pie(autopct=\"%.0f%%\",startangle=60,\n",
    "                                                                 colors=['lightgreen','lightcoral'])\n",
    "ax.set_ylabel(None)\n",
    "\n",
    "plt.subplot(1,3,3).set(title='LSVC model v3\\n80%-20% train-test split')\n",
    "ax=predictions2022_toss['Predictions LSVC3'].value_counts().plot.pie(autopct=\"%.0f%%\",startangle=60,\n",
    "                                                                 colors=['lightgreen','lightcoral'])\n",
    "ax.set_ylabel(None)\n",
    "\n",
    "plt.tight_layout()\n",
    "plt.savefig('C:/Users/DELL/Cricdata/LSVC2022predictions_toss.jpeg',bbox_inches='tight')\n",
    "plt.show()"
   ]
  },
  {
   "cell_type": "code",
   "execution_count": 250,
   "id": "be9a1040",
   "metadata": {},
   "outputs": [
    {
     "data": {
      "image/png": "[encoded data removed]",
      "text/plain": [
       "<Figure size 216x216 with 1 Axes>"
      ]
     },
     "metadata": {},
     "output_type": "display_data"
    }
   ],
   "source": [
    "fig,ax = plt.subplots(1,1, figsize=(3, 3))\n",
    "fig.suptitle('LSVC model:2022 Matches Winner Predictions based on Toss Outcome', fontsize=12)\n",
    "\n",
    "   \n",
    "ax.set_title('LSVC model (bootstrap sampled)',fontsize=8)\n",
    "ax=predictions2022_toss['Predictions LSVC1 boots'].value_counts().plot.pie(autopct=\"%.0f%%\",startangle=60,\n",
    "                                                                 colors=['lightgreen','lightcoral'])\n",
    "ax.set_ylabel(None)\n",
    "\n",
    "plt.tight_layout()\n",
    "#plt.savefig('C:/Users/DELL/Cricdata/LSVC2022predictions_boots.jpeg',bbox_inches='tight')\n",
    "plt.show()"
   ]
  },
  {
   "cell_type": "markdown",
   "id": "f3082b79",
   "metadata": {},
   "source": [
    "The three versions of the model and the bootstrapped version were used to predict the winners of the 2022 matches. The best predictions were done by the second model with 70-30% train-test split, getting 14 out of 16 or 88% of the winners correctly. The other two models with 75%-25% and 80%-20% train-test splits predicted 13 winners correctly. 12 predictions were made correctly by the model trained on bootstrapped input data."
   ]
  }
 ],
 "metadata": {
  "kernelspec": {
   "display_name": "Python 3",
   "language": "python",
   "name": "python3"
  },
  "language_info": {
   "codemirror_mode": {
    "name": "ipython",
    "version": 3
   },
   "file_extension": ".py",
   "mimetype": "text/x-python",
   "name": "python",
   "nbconvert_exporter": "python",
   "pygments_lexer": "ipython3",
   "version": "3.8.8"
  }
 },
 "nbformat": 4,
 "nbformat_minor": 5
}
