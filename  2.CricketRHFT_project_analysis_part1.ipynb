{
 "cells": [
  {
   "cell_type": "markdown",
   "id": "c765fd9b",
   "metadata": {},
   "source": [
    "# DATA ANALYSIS part 1: Toss/Winners/Winning Margins\n",
    "In this section,the focus of the analysis were the \n",
    " - toss before the start of every match\n",
    " - winning teams\n",
    " - winning margins (by runs/ by wickets)"
   ]
  },
  {
   "cell_type": "code",
   "execution_count": 16,
   "id": "8d401141",
   "metadata": {},
   "outputs": [
    {
     "data": {
      "text/html": [
       "<script>\n",
       "code_show=true;\n",
       "function code_toggle() {\n",
       " if (code_show){\n",
       " $('div.input').hide();\n",
       " } else {\n",
       " $('div.input').show();\n",
       " }\n",
       " code_show = !code_show\n",
       "} \n",
       "$( document ).ready(code_toggle);\n",
       "</script>\n",
       "<form action=\"javascript:code_toggle()\"><input type=\"submit\" value=\"Show/Hide Code.\"></form>"
      ],
      "text/plain": [
       "<IPython.core.display.HTML object>"
      ]
     },
     "execution_count": 16,
     "metadata": {},
     "output_type": "execute_result"
    }
   ],
   "source": [
    "from IPython.display import HTML\n",
    "\n",
    "HTML('''<script>\n",
    "code_show=true;\n",
    "function code_toggle() {\n",
    " if (code_show){\n",
    " $('div.input').hide();\n",
    " } else {\n",
    " $('div.input').show();\n",
    " }\n",
    " code_show = !code_show\n",
    "} \n",
    "$( document ).ready(code_toggle);\n",
    "</script>\n",
    "<form action=\"javascript:code_toggle()\"><input type=\"submit\" value=\"Show/Hide Code.\"></form>''')"
   ]
  },
  {
   "cell_type": "code",
   "execution_count": 20,
   "id": "ee05ca81",
   "metadata": {},
   "outputs": [],
   "source": [
    "import warnings\n",
    "warnings.filterwarnings('ignore')"
   ]
  },
  {
   "cell_type": "code",
   "execution_count": 21,
   "id": "8f077a8e",
   "metadata": {},
   "outputs": [],
   "source": [
    "import numpy as np\n",
    "import pandas as pd\n",
    "import matplotlib.pyplot as plt\n",
    "import seaborn as sns\n",
    "%matplotlib inline"
   ]
  },
  {
   "cell_type": "code",
   "execution_count": 22,
   "id": "774422db",
   "metadata": {},
   "outputs": [],
   "source": [
    "match_info = pd.read_csv('C:\\\\Users\\\\DELL\\\\Cricdata\\\\match_summary.csv')"
   ]
  },
  {
   "cell_type": "code",
   "execution_count": 23,
   "id": "78164d11",
   "metadata": {},
   "outputs": [
    {
     "data": {
      "text/html": [
       "<div>\n",
       "<style scoped>\n",
       "    .dataframe tbody tr th:only-of-type {\n",
       "        vertical-align: middle;\n",
       "    }\n",
       "\n",
       "    .dataframe tbody tr th {\n",
       "        vertical-align: top;\n",
       "    }\n",
       "\n",
       "    .dataframe thead th {\n",
       "        text-align: right;\n",
       "    }\n",
       "</style>\n",
       "<table border=\"1\" class=\"dataframe\">\n",
       "  <thead>\n",
       "    <tr style=\"text-align: right;\">\n",
       "      <th></th>\n",
       "      <th>match_id</th>\n",
       "      <th>Team1</th>\n",
       "      <th>Team2</th>\n",
       "      <th>Season</th>\n",
       "      <th>Date</th>\n",
       "      <th>Venue</th>\n",
       "      <th>Toss_Winner</th>\n",
       "      <th>Toss_Decision</th>\n",
       "      <th>Winner</th>\n",
       "      <th>Winning_Margin</th>\n",
       "      <th>ByWickets</th>\n",
       "      <th>ByRuns</th>\n",
       "    </tr>\n",
       "  </thead>\n",
       "  <tbody>\n",
       "    <tr>\n",
       "      <th>0</th>\n",
       "      <td>1229326</td>\n",
       "      <td>Sunrisers</td>\n",
       "      <td>Southern Vipers</td>\n",
       "      <td>2020</td>\n",
       "      <td>29-08-2020</td>\n",
       "      <td>Chelmsford</td>\n",
       "      <td>Southern Vipers</td>\n",
       "      <td>field</td>\n",
       "      <td>Southern Vipers</td>\n",
       "      <td>7</td>\n",
       "      <td>Y</td>\n",
       "      <td>N</td>\n",
       "    </tr>\n",
       "    <tr>\n",
       "      <th>1</th>\n",
       "      <td>1229327</td>\n",
       "      <td>Central Sparks</td>\n",
       "      <td>Northern Diamonds</td>\n",
       "      <td>2020</td>\n",
       "      <td>29-08-2020</td>\n",
       "      <td>Birmingham</td>\n",
       "      <td>Central Sparks</td>\n",
       "      <td>bat</td>\n",
       "      <td>Northern Diamonds</td>\n",
       "      <td>9</td>\n",
       "      <td>Y</td>\n",
       "      <td>N</td>\n",
       "    </tr>\n",
       "    <tr>\n",
       "      <th>2</th>\n",
       "      <td>1229328</td>\n",
       "      <td>Thunder</td>\n",
       "      <td>Lightning</td>\n",
       "      <td>2020</td>\n",
       "      <td>29-08-2020</td>\n",
       "      <td>Nottingham</td>\n",
       "      <td>Thunder</td>\n",
       "      <td>bat</td>\n",
       "      <td>Thunder</td>\n",
       "      <td>4</td>\n",
       "      <td>N</td>\n",
       "      <td>Y</td>\n",
       "    </tr>\n",
       "    <tr>\n",
       "      <th>3</th>\n",
       "      <td>1229329</td>\n",
       "      <td>South East Stars</td>\n",
       "      <td>Western Storm</td>\n",
       "      <td>2020</td>\n",
       "      <td>29-08-2020</td>\n",
       "      <td>Beckenham</td>\n",
       "      <td>Western Storm</td>\n",
       "      <td>field</td>\n",
       "      <td>Western Storm</td>\n",
       "      <td>6</td>\n",
       "      <td>Y</td>\n",
       "      <td>N</td>\n",
       "    </tr>\n",
       "    <tr>\n",
       "      <th>4</th>\n",
       "      <td>1229330</td>\n",
       "      <td>Southern Vipers</td>\n",
       "      <td>Western Storm</td>\n",
       "      <td>2020</td>\n",
       "      <td>31-08-2020</td>\n",
       "      <td>Bristol</td>\n",
       "      <td>Western Storm</td>\n",
       "      <td>field</td>\n",
       "      <td>Southern Vipers</td>\n",
       "      <td>22</td>\n",
       "      <td>N</td>\n",
       "      <td>Y</td>\n",
       "    </tr>\n",
       "    <tr>\n",
       "      <th>5</th>\n",
       "      <td>1229331</td>\n",
       "      <td>South East Stars</td>\n",
       "      <td>Sunrisers</td>\n",
       "      <td>2020</td>\n",
       "      <td>31-08-2020</td>\n",
       "      <td>Beckenham</td>\n",
       "      <td>South East Stars</td>\n",
       "      <td>bat</td>\n",
       "      <td>South East Stars</td>\n",
       "      <td>77</td>\n",
       "      <td>N</td>\n",
       "      <td>Y</td>\n",
       "    </tr>\n",
       "    <tr>\n",
       "      <th>6</th>\n",
       "      <td>1229332</td>\n",
       "      <td>Thunder</td>\n",
       "      <td>Central Sparks</td>\n",
       "      <td>2020</td>\n",
       "      <td>31-08-2020</td>\n",
       "      <td>Birmingham</td>\n",
       "      <td>Thunder</td>\n",
       "      <td>bat</td>\n",
       "      <td>Central Sparks</td>\n",
       "      <td>4</td>\n",
       "      <td>Y</td>\n",
       "      <td>N</td>\n",
       "    </tr>\n",
       "    <tr>\n",
       "      <th>7</th>\n",
       "      <td>1229333</td>\n",
       "      <td>Northern Diamonds</td>\n",
       "      <td>Lightning</td>\n",
       "      <td>2020</td>\n",
       "      <td>31-08-2020</td>\n",
       "      <td>Chester-le-Street</td>\n",
       "      <td>Northern Diamonds</td>\n",
       "      <td>bat</td>\n",
       "      <td>Northern Diamonds</td>\n",
       "      <td>9</td>\n",
       "      <td>N</td>\n",
       "      <td>Y</td>\n",
       "    </tr>\n",
       "    <tr>\n",
       "      <th>8</th>\n",
       "      <td>1229334</td>\n",
       "      <td>Thunder</td>\n",
       "      <td>Central Sparks</td>\n",
       "      <td>2020</td>\n",
       "      <td>05-09-2020</td>\n",
       "      <td>Worcester</td>\n",
       "      <td>Thunder</td>\n",
       "      <td>bat</td>\n",
       "      <td>Central Sparks</td>\n",
       "      <td>8</td>\n",
       "      <td>Y</td>\n",
       "      <td>N</td>\n",
       "    </tr>\n",
       "    <tr>\n",
       "      <th>9</th>\n",
       "      <td>1229335</td>\n",
       "      <td>Western Storm</td>\n",
       "      <td>Sunrisers</td>\n",
       "      <td>2020</td>\n",
       "      <td>05-09-2020</td>\n",
       "      <td>Chelmsford</td>\n",
       "      <td>Sunrisers</td>\n",
       "      <td>field</td>\n",
       "      <td>Western Storm</td>\n",
       "      <td>86</td>\n",
       "      <td>N</td>\n",
       "      <td>Y</td>\n",
       "    </tr>\n",
       "  </tbody>\n",
       "</table>\n",
       "</div>"
      ],
      "text/plain": [
       "   match_id              Team1              Team2  Season        Date  \\\n",
       "0   1229326          Sunrisers    Southern Vipers    2020  29-08-2020   \n",
       "1   1229327     Central Sparks  Northern Diamonds    2020  29-08-2020   \n",
       "2   1229328            Thunder          Lightning    2020  29-08-2020   \n",
       "3   1229329   South East Stars      Western Storm    2020  29-08-2020   \n",
       "4   1229330    Southern Vipers      Western Storm    2020  31-08-2020   \n",
       "5   1229331   South East Stars          Sunrisers    2020  31-08-2020   \n",
       "6   1229332            Thunder     Central Sparks    2020  31-08-2020   \n",
       "7   1229333  Northern Diamonds          Lightning    2020  31-08-2020   \n",
       "8   1229334            Thunder     Central Sparks    2020  05-09-2020   \n",
       "9   1229335      Western Storm          Sunrisers    2020  05-09-2020   \n",
       "\n",
       "               Venue        Toss_Winner Toss_Decision             Winner  \\\n",
       "0         Chelmsford    Southern Vipers         field    Southern Vipers   \n",
       "1         Birmingham     Central Sparks           bat  Northern Diamonds   \n",
       "2         Nottingham            Thunder           bat            Thunder   \n",
       "3          Beckenham      Western Storm         field      Western Storm   \n",
       "4            Bristol      Western Storm         field    Southern Vipers   \n",
       "5          Beckenham   South East Stars           bat   South East Stars   \n",
       "6         Birmingham            Thunder           bat     Central Sparks   \n",
       "7  Chester-le-Street  Northern Diamonds           bat  Northern Diamonds   \n",
       "8          Worcester            Thunder           bat     Central Sparks   \n",
       "9         Chelmsford          Sunrisers         field      Western Storm   \n",
       "\n",
       "   Winning_Margin ByWickets ByRuns  \n",
       "0               7         Y      N  \n",
       "1               9         Y      N  \n",
       "2               4         N      Y  \n",
       "3               6         Y      N  \n",
       "4              22         N      Y  \n",
       "5              77         N      Y  \n",
       "6               4         Y      N  \n",
       "7               9         N      Y  \n",
       "8               8         Y      N  \n",
       "9              86         N      Y  "
      ]
     },
     "execution_count": 23,
     "metadata": {},
     "output_type": "execute_result"
    }
   ],
   "source": [
    "match_info.head(10)"
   ]
  },
  {
   "cell_type": "code",
   "execution_count": 24,
   "id": "be4117d3",
   "metadata": {},
   "outputs": [
    {
     "name": "stdout",
     "output_type": "stream",
     "text": [
      "<class 'pandas.core.frame.DataFrame'>\n",
      "RangeIndex: 55 entries, 0 to 54\n",
      "Data columns (total 12 columns):\n",
      " #   Column          Non-Null Count  Dtype \n",
      "---  ------          --------------  ----- \n",
      " 0   match_id        55 non-null     int64 \n",
      " 1   Team1           55 non-null     object\n",
      " 2   Team2           55 non-null     object\n",
      " 3   Season          55 non-null     int64 \n",
      " 4   Date            55 non-null     object\n",
      " 5   Venue           55 non-null     object\n",
      " 6   Toss_Winner     55 non-null     object\n",
      " 7   Toss_Decision   55 non-null     object\n",
      " 8   Winner          55 non-null     object\n",
      " 9   Winning_Margin  55 non-null     int64 \n",
      " 10  ByWickets       55 non-null     object\n",
      " 11  ByRuns          55 non-null     object\n",
      "dtypes: int64(3), object(9)\n",
      "memory usage: 5.3+ KB\n"
     ]
    }
   ],
   "source": [
    "match_info.info()"
   ]
  },
  {
   "cell_type": "markdown",
   "id": "92c114e4",
   "metadata": {},
   "source": [
    "## <center> 1. Toss <center>"
   ]
  },
  {
   "cell_type": "markdown",
   "id": "13410e7d",
   "metadata": {},
   "source": [
    "The coin toss takes place before starting of every match between the captains of the two playing teams. The captain that wins the toss gets to decide whether to bat or field(bowl) first."
   ]
  },
  {
   "cell_type": "code",
   "execution_count": 25,
   "id": "e0f728ef",
   "metadata": {
    "tags": [
     "hide-output"
    ]
   },
   "outputs": [
    {
     "data": {
      "text/plain": [
       "bat      30\n",
       "field    25\n",
       "Name: Toss_Decision, dtype: int64"
      ]
     },
     "execution_count": 25,
     "metadata": {},
     "output_type": "execute_result"
    }
   ],
   "source": [
    "match_info['Toss_Decision'].value_counts()"
   ]
  },
  {
   "cell_type": "code",
   "execution_count": 26,
   "id": "106252af",
   "metadata": {},
   "outputs": [
    {
     "data": {
      "image/png": "[encoded data removed]",
      "text/plain": [
       "<Figure size 360x360 with 1 Axes>"
      ]
     },
     "metadata": {},
     "output_type": "display_data"
    }
   ],
   "source": [
    "#plot percentages of Toss Decision\n",
    "plt.figure(figsize=(5, 5)) #figure size\n",
    "plt.title('Toss Decision') #plot title\n",
    "match_info['Toss_Decision'].value_counts().plot.pie(autopct=\"%.0f%%\",startangle=90,\n",
    "                                                    colors=['khaki','lawngreen']) #pie chart showing percentages\n",
    "plt.ylabel('') #no y axis labels\n",
    "\n",
    "plt.savefig('C:\\\\Users\\\\DELL\\\\Cricdata\\TossDecision_prcnt.jpeg') #save the figure\n",
    "plt.show() #show it now below"
   ]
  },
  {
   "cell_type": "markdown",
   "id": "71867ae6",
   "metadata": {},
   "source": [
    "55% of the time captains chose to bat first and the rest 45% chose to field first "
   ]
  },
  {
   "cell_type": "code",
   "execution_count": 27,
   "id": "8e3917c8",
   "metadata": {
    "tags": [
     "hide-cell"
    ]
   },
   "outputs": [
    {
     "data": {
      "text/html": [
       "<div>\n",
       "<style scoped>\n",
       "    .dataframe tbody tr th:only-of-type {\n",
       "        vertical-align: middle;\n",
       "    }\n",
       "\n",
       "    .dataframe tbody tr th {\n",
       "        vertical-align: top;\n",
       "    }\n",
       "\n",
       "    .dataframe thead th {\n",
       "        text-align: right;\n",
       "    }\n",
       "</style>\n",
       "<table border=\"1\" class=\"dataframe\">\n",
       "  <thead>\n",
       "    <tr style=\"text-align: right;\">\n",
       "      <th></th>\n",
       "      <th>Toss_Decision</th>\n",
       "      <th>Toss_Winner</th>\n",
       "      <th>Winner</th>\n",
       "    </tr>\n",
       "  </thead>\n",
       "  <tbody>\n",
       "    <tr>\n",
       "      <th>0</th>\n",
       "      <td>field</td>\n",
       "      <td>Southern Vipers</td>\n",
       "      <td>Southern Vipers</td>\n",
       "    </tr>\n",
       "    <tr>\n",
       "      <th>1</th>\n",
       "      <td>bat</td>\n",
       "      <td>Central Sparks</td>\n",
       "      <td>Northern Diamonds</td>\n",
       "    </tr>\n",
       "    <tr>\n",
       "      <th>2</th>\n",
       "      <td>bat</td>\n",
       "      <td>Thunder</td>\n",
       "      <td>Thunder</td>\n",
       "    </tr>\n",
       "    <tr>\n",
       "      <th>3</th>\n",
       "      <td>field</td>\n",
       "      <td>Western Storm</td>\n",
       "      <td>Western Storm</td>\n",
       "    </tr>\n",
       "    <tr>\n",
       "      <th>4</th>\n",
       "      <td>field</td>\n",
       "      <td>Western Storm</td>\n",
       "      <td>Southern Vipers</td>\n",
       "    </tr>\n",
       "  </tbody>\n",
       "</table>\n",
       "</div>"
      ],
      "text/plain": [
       "  Toss_Decision      Toss_Winner             Winner\n",
       "0         field  Southern Vipers    Southern Vipers\n",
       "1           bat   Central Sparks  Northern Diamonds\n",
       "2           bat          Thunder            Thunder\n",
       "3         field    Western Storm      Western Storm\n",
       "4         field    Western Storm    Southern Vipers"
      ]
     },
     "execution_count": 27,
     "metadata": {},
     "output_type": "execute_result"
    }
   ],
   "source": [
    "#create another dataframe taking columns from match_info\n",
    "tossmatch_win = match_info[['Toss_Decision','Toss_Winner','Winner']]\n",
    "tossmatch_win.head()"
   ]
  },
  {
   "cell_type": "code",
   "execution_count": 28,
   "id": "378870eb",
   "metadata": {
    "tags": [
     "hide-cell"
    ]
   },
   "outputs": [],
   "source": [
    "#Add a new column\n",
    "tossmatch_win['OnlyToss_Winner']=np.nan"
   ]
  },
  {
   "cell_type": "code",
   "execution_count": 29,
   "id": "28af3138",
   "metadata": {},
   "outputs": [],
   "source": [
    "for i in range(len(tossmatch_win)):\n",
    "    if tossmatch_win['Winner'][i] == tossmatch_win['Toss_Winner'][i]:\n",
    "        tossmatch_win['OnlyToss_Winner'][i] = \"No\"\n",
    "    else:\n",
    "        tossmatch_win['OnlyToss_Winner'][i] = \"Yes\""
   ]
  },
  {
   "cell_type": "code",
   "execution_count": 30,
   "id": "00156f43",
   "metadata": {},
   "outputs": [
    {
     "data": {
      "text/html": [
       "<div>\n",
       "<style scoped>\n",
       "    .dataframe tbody tr th:only-of-type {\n",
       "        vertical-align: middle;\n",
       "    }\n",
       "\n",
       "    .dataframe tbody tr th {\n",
       "        vertical-align: top;\n",
       "    }\n",
       "\n",
       "    .dataframe thead th {\n",
       "        text-align: right;\n",
       "    }\n",
       "</style>\n",
       "<table border=\"1\" class=\"dataframe\">\n",
       "  <thead>\n",
       "    <tr style=\"text-align: right;\">\n",
       "      <th></th>\n",
       "      <th>Toss_Decision</th>\n",
       "      <th>Toss_Winner</th>\n",
       "      <th>Winner</th>\n",
       "      <th>OnlyToss_Winner</th>\n",
       "    </tr>\n",
       "  </thead>\n",
       "  <tbody>\n",
       "    <tr>\n",
       "      <th>0</th>\n",
       "      <td>field</td>\n",
       "      <td>Southern Vipers</td>\n",
       "      <td>Southern Vipers</td>\n",
       "      <td>No</td>\n",
       "    </tr>\n",
       "    <tr>\n",
       "      <th>1</th>\n",
       "      <td>bat</td>\n",
       "      <td>Central Sparks</td>\n",
       "      <td>Northern Diamonds</td>\n",
       "      <td>Yes</td>\n",
       "    </tr>\n",
       "    <tr>\n",
       "      <th>2</th>\n",
       "      <td>bat</td>\n",
       "      <td>Thunder</td>\n",
       "      <td>Thunder</td>\n",
       "      <td>No</td>\n",
       "    </tr>\n",
       "    <tr>\n",
       "      <th>3</th>\n",
       "      <td>field</td>\n",
       "      <td>Western Storm</td>\n",
       "      <td>Western Storm</td>\n",
       "      <td>No</td>\n",
       "    </tr>\n",
       "    <tr>\n",
       "      <th>4</th>\n",
       "      <td>field</td>\n",
       "      <td>Western Storm</td>\n",
       "      <td>Southern Vipers</td>\n",
       "      <td>Yes</td>\n",
       "    </tr>\n",
       "    <tr>\n",
       "      <th>5</th>\n",
       "      <td>bat</td>\n",
       "      <td>South East Stars</td>\n",
       "      <td>South East Stars</td>\n",
       "      <td>No</td>\n",
       "    </tr>\n",
       "    <tr>\n",
       "      <th>6</th>\n",
       "      <td>bat</td>\n",
       "      <td>Thunder</td>\n",
       "      <td>Central Sparks</td>\n",
       "      <td>Yes</td>\n",
       "    </tr>\n",
       "    <tr>\n",
       "      <th>7</th>\n",
       "      <td>bat</td>\n",
       "      <td>Northern Diamonds</td>\n",
       "      <td>Northern Diamonds</td>\n",
       "      <td>No</td>\n",
       "    </tr>\n",
       "    <tr>\n",
       "      <th>8</th>\n",
       "      <td>bat</td>\n",
       "      <td>Thunder</td>\n",
       "      <td>Central Sparks</td>\n",
       "      <td>Yes</td>\n",
       "    </tr>\n",
       "    <tr>\n",
       "      <th>9</th>\n",
       "      <td>field</td>\n",
       "      <td>Sunrisers</td>\n",
       "      <td>Western Storm</td>\n",
       "      <td>Yes</td>\n",
       "    </tr>\n",
       "  </tbody>\n",
       "</table>\n",
       "</div>"
      ],
      "text/plain": [
       "  Toss_Decision        Toss_Winner             Winner OnlyToss_Winner\n",
       "0         field    Southern Vipers    Southern Vipers              No\n",
       "1           bat     Central Sparks  Northern Diamonds             Yes\n",
       "2           bat            Thunder            Thunder              No\n",
       "3         field      Western Storm      Western Storm              No\n",
       "4         field      Western Storm    Southern Vipers             Yes\n",
       "5           bat   South East Stars   South East Stars              No\n",
       "6           bat            Thunder     Central Sparks             Yes\n",
       "7           bat  Northern Diamonds  Northern Diamonds              No\n",
       "8           bat            Thunder     Central Sparks             Yes\n",
       "9         field          Sunrisers      Western Storm             Yes"
      ]
     },
     "execution_count": 30,
     "metadata": {},
     "output_type": "execute_result"
    }
   ],
   "source": [
    "tossmatch_win.head(10)"
   ]
  },
  {
   "cell_type": "code",
   "execution_count": 31,
   "id": "67b394a0",
   "metadata": {},
   "outputs": [
    {
     "data": {
      "text/plain": [
       "Yes    30\n",
       "No     25\n",
       "Name: OnlyToss_Winner, dtype: int64"
      ]
     },
     "execution_count": 31,
     "metadata": {},
     "output_type": "execute_result"
    }
   ],
   "source": [
    "tossmatch_win['OnlyToss_Winner'].value_counts()"
   ]
  },
  {
   "cell_type": "code",
   "execution_count": 32,
   "id": "b3ca5cab",
   "metadata": {},
   "outputs": [
    {
     "data": {
      "image/png": "[encoded data removed]",
      "text/plain": [
       "<Figure size 360x360 with 1 Axes>"
      ]
     },
     "metadata": {},
     "output_type": "display_data"
    }
   ],
   "source": [
    "#plot percentages of Toss Winner Outcome\n",
    "plt.figure(figsize=(5, 5)) \n",
    "plt.title('Match Outcome for Toss Winners') \n",
    "outcome=[\"Lost Match\", \"Won Match\"]\n",
    "tossmatch_win['OnlyToss_Winner'].value_counts().plot.pie(labels=outcome,autopct=\"%.0f%%\",\n",
    "                                                         startangle=90, colors=['lightcoral','lightgreen']) \n",
    "plt.ylabel('')\n",
    "\n",
    "plt.savefig('C:\\\\Users\\\\DELL\\\\Cricdata\\TossWinnerOutcome.jpeg')\n",
    "plt.show()"
   ]
  },
  {
   "cell_type": "markdown",
   "id": "17daea0b",
   "metadata": {},
   "source": [
    "45% teams won the toss as well as the match while 55% toss winning teams lost the match."
   ]
  },
  {
   "cell_type": "code",
   "execution_count": 33,
   "id": "12af762a",
   "metadata": {},
   "outputs": [
    {
     "data": {
      "text/plain": [
       "bat      14\n",
       "field    11\n",
       "Name: Toss_Decision, dtype: int64"
      ]
     },
     "execution_count": 33,
     "metadata": {},
     "output_type": "execute_result"
    }
   ],
   "source": [
    "winner_tosschoice=tossmatch_win[tossmatch_win['OnlyToss_Winner']==\"No\"]['Toss_Decision'].value_counts()\n",
    "winner_tosschoice"
   ]
  },
  {
   "cell_type": "code",
   "execution_count": 34,
   "id": "27143261",
   "metadata": {},
   "outputs": [
    {
     "data": {
      "image/png": "[encoded data removed]",
      "text/plain": [
       "<Figure size 504x360 with 1 Axes>"
      ]
     },
     "metadata": {},
     "output_type": "display_data"
    }
   ],
   "source": [
    "#plot percentages of Toss Choice of Winners\n",
    "plt.figure(figsize=(7, 5)) \n",
    "plt.title('Toss Decision of Toss and Match Winners') \n",
    "outcome=[\"Chose to bat\", \"Chose to field\"]\n",
    "winner_tosschoice.plot.pie(labels=outcome,autopct=\"%.0f%%\",startangle=90, colors=['khaki','lawngreen']) \n",
    "plt.ylabel('')\n",
    "\n",
    "plt.savefig('C:\\\\Users\\\\DELL\\\\Cricdata\\WinnerTossChoice.jpeg')\n",
    "plt.show()"
   ]
  },
  {
   "cell_type": "markdown",
   "id": "b24833cf",
   "metadata": {},
   "source": [
    "Of the teams that won both the toss and match majority (56%) chose to bat first and the remaining (44%) won the match after fielding in the first innings"
   ]
  },
  {
   "cell_type": "code",
   "execution_count": 35,
   "id": "66ec9ad3",
   "metadata": {},
   "outputs": [
    {
     "data": {
      "text/plain": [
       "Yes    16\n",
       "No     14\n",
       "Name: OnlyToss_Winner, dtype: int64"
      ]
     },
     "execution_count": 35,
     "metadata": {},
     "output_type": "execute_result"
    }
   ],
   "source": [
    "winner_batfirst=tossmatch_win[tossmatch_win['Toss_Decision']==\"bat\"]['OnlyToss_Winner'].value_counts()\n",
    "winner_batfirst"
   ]
  },
  {
   "cell_type": "code",
   "execution_count": 36,
   "id": "0a0569b0",
   "metadata": {},
   "outputs": [
    {
     "data": {
      "image/png": "[encoded data removed]",
      "text/plain": [
       "<Figure size 360x360 with 1 Axes>"
      ]
     },
     "metadata": {},
     "output_type": "display_data"
    }
   ],
   "source": [
    "#plot outcome of teams batting first\n",
    "plt.figure(figsize=(5, 5)) \n",
    "plt.title('Match Outcome for Teams Batting First') \n",
    "outcome=[\"Lost Match\", \"Won Match\"]\n",
    "winner_batfirst.plot.pie(labels=outcome,autopct=\"%.0f%%\",\n",
    "                                                         startangle=90, colors=['lightcoral','lightgreen']) \n",
    "plt.ylabel('')\n",
    "\n",
    "plt.savefig('C:\\\\Users\\\\DELL\\\\Cricdata\\BatFirstOutcome.jpeg')\n",
    "plt.show()"
   ]
  },
  {
   "cell_type": "markdown",
   "id": "3e029690",
   "metadata": {},
   "source": [
    "Teams choosing to bat first won the match 47% of the time"
   ]
  },
  {
   "cell_type": "code",
   "execution_count": 37,
   "id": "2b37b2d8",
   "metadata": {},
   "outputs": [
    {
     "data": {
      "text/plain": [
       "Yes    14\n",
       "No     11\n",
       "Name: OnlyToss_Winner, dtype: int64"
      ]
     },
     "execution_count": 37,
     "metadata": {},
     "output_type": "execute_result"
    }
   ],
   "source": [
    "winner_fieldfirst=tossmatch_win[tossmatch_win['Toss_Decision']==\"field\"]['OnlyToss_Winner'].value_counts()\n",
    "winner_fieldfirst"
   ]
  },
  {
   "cell_type": "code",
   "execution_count": 38,
   "id": "c8e1eccf",
   "metadata": {},
   "outputs": [
    {
     "data": {
      "image/png": "[encoded data removed]",
      "text/plain": [
       "<Figure size 360x360 with 1 Axes>"
      ]
     },
     "metadata": {},
     "output_type": "display_data"
    }
   ],
   "source": [
    "#plot outcome of teams fielding first\n",
    "plt.figure(figsize=(5, 5)) \n",
    "plt.title('Match Outcome for Teams Fielding First') \n",
    "outcome=[\"Lost Match\", \"Won Match\"]\n",
    "winner_fieldfirst.plot.pie(labels=outcome,autopct=\"%.0f%%\",\n",
    "                                                         startangle=90, colors=['lightcoral','lightgreen']) \n",
    "plt.ylabel('')\n",
    "\n",
    "plt.savefig('C:\\\\Users\\\\DELL\\\\Cricdata\\FieldFirstOutcome.jpeg')\n",
    "plt.show()"
   ]
  },
  {
   "cell_type": "markdown",
   "id": "2dc27bc3",
   "metadata": {},
   "source": [
    "Teams that chose to field(bowl) first won 44% of the time "
   ]
  },
  {
   "cell_type": "code",
   "execution_count": 39,
   "id": "b5cc5c4a",
   "metadata": {},
   "outputs": [
    {
     "data": {
      "text/html": [
       "<div>\n",
       "<style scoped>\n",
       "    .dataframe tbody tr th:only-of-type {\n",
       "        vertical-align: middle;\n",
       "    }\n",
       "\n",
       "    .dataframe tbody tr th {\n",
       "        vertical-align: top;\n",
       "    }\n",
       "\n",
       "    .dataframe thead th {\n",
       "        text-align: right;\n",
       "    }\n",
       "</style>\n",
       "<table border=\"1\" class=\"dataframe\">\n",
       "  <thead>\n",
       "    <tr style=\"text-align: right;\">\n",
       "      <th></th>\n",
       "      <th>Toss_Decision</th>\n",
       "      <th>Toss_Winner</th>\n",
       "      <th>Winner</th>\n",
       "      <th>OnlyToss_Winner</th>\n",
       "    </tr>\n",
       "  </thead>\n",
       "  <tbody>\n",
       "    <tr>\n",
       "      <th>0</th>\n",
       "      <td>field</td>\n",
       "      <td>Southern Vipers</td>\n",
       "      <td>Southern Vipers</td>\n",
       "      <td>No</td>\n",
       "    </tr>\n",
       "    <tr>\n",
       "      <th>1</th>\n",
       "      <td>bat</td>\n",
       "      <td>Central Sparks</td>\n",
       "      <td>Northern Diamonds</td>\n",
       "      <td>Yes</td>\n",
       "    </tr>\n",
       "    <tr>\n",
       "      <th>2</th>\n",
       "      <td>bat</td>\n",
       "      <td>Thunder</td>\n",
       "      <td>Thunder</td>\n",
       "      <td>No</td>\n",
       "    </tr>\n",
       "    <tr>\n",
       "      <th>3</th>\n",
       "      <td>field</td>\n",
       "      <td>Western Storm</td>\n",
       "      <td>Western Storm</td>\n",
       "      <td>No</td>\n",
       "    </tr>\n",
       "    <tr>\n",
       "      <th>4</th>\n",
       "      <td>field</td>\n",
       "      <td>Western Storm</td>\n",
       "      <td>Southern Vipers</td>\n",
       "      <td>Yes</td>\n",
       "    </tr>\n",
       "  </tbody>\n",
       "</table>\n",
       "</div>"
      ],
      "text/plain": [
       "  Toss_Decision      Toss_Winner             Winner OnlyToss_Winner\n",
       "0         field  Southern Vipers    Southern Vipers              No\n",
       "1           bat   Central Sparks  Northern Diamonds             Yes\n",
       "2           bat          Thunder            Thunder              No\n",
       "3         field    Western Storm      Western Storm              No\n",
       "4         field    Western Storm    Southern Vipers             Yes"
      ]
     },
     "execution_count": 39,
     "metadata": {},
     "output_type": "execute_result"
    }
   ],
   "source": [
    "tossmatch_win.head()"
   ]
  },
  {
   "cell_type": "code",
   "execution_count": 40,
   "id": "740eeb00",
   "metadata": {},
   "outputs": [],
   "source": [
    "tossmatch_win['winner_firstinns']=np.nan\n",
    "\n",
    "for i in range(len(tossmatch_win)):\n",
    "    if tossmatch_win['OnlyToss_Winner'][i] == \"No\":\n",
    "        tossmatch_win['winner_firstinns'][i] = tossmatch_win['Toss_Decision'][i] + \" first\"\n",
    "    else:\n",
    "        if  tossmatch_win['Toss_Decision'][i]==\"bat\":\n",
    "            tossmatch_win['winner_firstinns'][i]=\"field first\"\n",
    "        else:\n",
    "            tossmatch_win['winner_firstinns'][i]=\"bat first\""
   ]
  },
  {
   "cell_type": "code",
   "execution_count": 41,
   "id": "9928c124",
   "metadata": {},
   "outputs": [
    {
     "data": {
      "text/html": [
       "<div>\n",
       "<style scoped>\n",
       "    .dataframe tbody tr th:only-of-type {\n",
       "        vertical-align: middle;\n",
       "    }\n",
       "\n",
       "    .dataframe tbody tr th {\n",
       "        vertical-align: top;\n",
       "    }\n",
       "\n",
       "    .dataframe thead th {\n",
       "        text-align: right;\n",
       "    }\n",
       "</style>\n",
       "<table border=\"1\" class=\"dataframe\">\n",
       "  <thead>\n",
       "    <tr style=\"text-align: right;\">\n",
       "      <th></th>\n",
       "      <th>Toss_Decision</th>\n",
       "      <th>Toss_Winner</th>\n",
       "      <th>Winner</th>\n",
       "      <th>OnlyToss_Winner</th>\n",
       "      <th>winner_firstinns</th>\n",
       "    </tr>\n",
       "  </thead>\n",
       "  <tbody>\n",
       "    <tr>\n",
       "      <th>0</th>\n",
       "      <td>field</td>\n",
       "      <td>Southern Vipers</td>\n",
       "      <td>Southern Vipers</td>\n",
       "      <td>No</td>\n",
       "      <td>field first</td>\n",
       "    </tr>\n",
       "    <tr>\n",
       "      <th>1</th>\n",
       "      <td>bat</td>\n",
       "      <td>Central Sparks</td>\n",
       "      <td>Northern Diamonds</td>\n",
       "      <td>Yes</td>\n",
       "      <td>field first</td>\n",
       "    </tr>\n",
       "    <tr>\n",
       "      <th>2</th>\n",
       "      <td>bat</td>\n",
       "      <td>Thunder</td>\n",
       "      <td>Thunder</td>\n",
       "      <td>No</td>\n",
       "      <td>bat first</td>\n",
       "    </tr>\n",
       "    <tr>\n",
       "      <th>3</th>\n",
       "      <td>field</td>\n",
       "      <td>Western Storm</td>\n",
       "      <td>Western Storm</td>\n",
       "      <td>No</td>\n",
       "      <td>field first</td>\n",
       "    </tr>\n",
       "    <tr>\n",
       "      <th>4</th>\n",
       "      <td>field</td>\n",
       "      <td>Western Storm</td>\n",
       "      <td>Southern Vipers</td>\n",
       "      <td>Yes</td>\n",
       "      <td>bat first</td>\n",
       "    </tr>\n",
       "  </tbody>\n",
       "</table>\n",
       "</div>"
      ],
      "text/plain": [
       "  Toss_Decision      Toss_Winner             Winner OnlyToss_Winner  \\\n",
       "0         field  Southern Vipers    Southern Vipers              No   \n",
       "1           bat   Central Sparks  Northern Diamonds             Yes   \n",
       "2           bat          Thunder            Thunder              No   \n",
       "3         field    Western Storm      Western Storm              No   \n",
       "4         field    Western Storm    Southern Vipers             Yes   \n",
       "\n",
       "  winner_firstinns  \n",
       "0      field first  \n",
       "1      field first  \n",
       "2        bat first  \n",
       "3      field first  \n",
       "4        bat first  "
      ]
     },
     "execution_count": 41,
     "metadata": {},
     "output_type": "execute_result"
    }
   ],
   "source": [
    "tossmatch_win.head()"
   ]
  },
  {
   "cell_type": "code",
   "execution_count": 42,
   "id": "8257cad7",
   "metadata": {},
   "outputs": [
    {
     "data": {
      "text/plain": [
       "bat first      28\n",
       "field first    27\n",
       "Name: winner_firstinns, dtype: int64"
      ]
     },
     "execution_count": 42,
     "metadata": {},
     "output_type": "execute_result"
    }
   ],
   "source": [
    "tossmatch_win['winner_firstinns'].value_counts()"
   ]
  },
  {
   "cell_type": "code",
   "execution_count": 43,
   "id": "6d927a1c",
   "metadata": {},
   "outputs": [
    {
     "data": {
      "image/png": "[encoded data removed]",
      "text/plain": [
       "<Figure size 360x360 with 1 Axes>"
      ]
     },
     "metadata": {},
     "output_type": "display_data"
    }
   ],
   "source": [
    "#plot percentages of Toss Choice of Winners\n",
    "plt.figure(figsize=(5, 5)) \n",
    "plt.title('First Innings of Match Winners') \n",
    "#outcome=[\"bat first\", \"field first\"]labels=outcome,\n",
    "tossmatch_win['winner_firstinns'].value_counts().plot.pie(autopct=\"%.0f%%\",startangle=90, colors=['khaki','lawngreen']) \n",
    "plt.ylabel('')\n",
    "\n",
    "plt.savefig('C:\\\\Users\\\\DELL\\\\Cricdata\\Winnerfirstinns.jpeg')\n",
    "plt.show()"
   ]
  },
  {
   "cell_type": "markdown",
   "id": "f43af9f7",
   "metadata": {},
   "source": [
    "Irrespective of winning or losing the toss, 51% of the matches were won by teams batting first and 49% were won by teams fielding first "
   ]
  },
  {
   "cell_type": "markdown",
   "id": "168a7c52",
   "metadata": {},
   "source": [
    "## <center> 2. Winning Teams <center>"
   ]
  },
  {
   "cell_type": "code",
   "execution_count": 44,
   "id": "f13fc4d8",
   "metadata": {},
   "outputs": [
    {
     "data": {
      "text/plain": [
       "Southern Vipers      14\n",
       "Northern Diamonds    11\n",
       "Central Sparks        8\n",
       "Western Storm         7\n",
       "Thunder               5\n",
       "South East Stars      5\n",
       "Lightning             5\n",
       "Name: Winner, dtype: int64"
      ]
     },
     "execution_count": 44,
     "metadata": {},
     "output_type": "execute_result"
    }
   ],
   "source": [
    "match_info['Winner'].value_counts()"
   ]
  },
  {
   "cell_type": "code",
   "execution_count": 45,
   "id": "de9ca1ce",
   "metadata": {},
   "outputs": [
    {
     "data": {
      "image/png": "[encoded data removed]",
      "text/plain": [
       "<Figure size 432x288 with 1 Axes>"
      ]
     },
     "metadata": {
      "needs_background": "light"
     },
     "output_type": "display_data"
    }
   ],
   "source": [
    "#plot number of wins by team\n",
    "plt.figure(figsize=(6, 4))\n",
    "plt.title('Number of Wins Teamwise') \n",
    "ax=sns.countplot(y='Winner', data=match_info, hue='Season', palette=['teal','lightskyblue'],\n",
    "                 order=match_info['Winner'].value_counts().index)\n",
    "\n",
    "# set the bar labels\n",
    "for p in ax.patches:\n",
    "    ax.annotate( int(p.get_width()),( (p.get_x() + p.get_width()), p.get_y() ), \n",
    "                xytext=(10,-10),fontsize=10,color='black',textcoords='offset points',horizontalalignment='right' )     \n",
    "    \n",
    "plt.ylabel('')\n",
    "plt.xlabel('Wins')\n",
    "\n",
    "plt.savefig('C:\\\\Users\\\\DELL\\\\Cricdata\\Winsteamwise.jpeg',bbox_inches='tight')\n",
    "plt.show()"
   ]
  },
  {
   "cell_type": "markdown",
   "id": "0172bab4",
   "metadata": {},
   "source": [
    "Among the eight teams, both times champions Southern Vipers have been the most successful team throughout the 2020 and 2021 seasons. They won all their matches in the 2020 season and won all except one match in 2021. The team has 14 wins out of 15 matches with 7 wins in each season. The other teams except Western Storm won more matches in 2021 than in 2020 season. Twice runners-up Northern Diamonds won 11 of 15 matches. Each of the teams North West Thunder, South East Stars and Lightning won 5 matches in total of which 2 were in 2020 and 3 were in 2021.  The Sunrisers were the least successful team, having lost every match. "
   ]
  },
  {
   "cell_type": "code",
   "execution_count": 46,
   "id": "59dec356",
   "metadata": {},
   "outputs": [
    {
     "data": {
      "text/plain": [
       "array(['Chelmsford', 'Birmingham', 'Nottingham', 'Beckenham', 'Bristol',\n",
       "       'Chester-le-Street', 'Worcester', 'Leicester', 'Brighton',\n",
       "       'Liverpool', 'Southampton', 'Leeds', 'London', 'Kibworth',\n",
       "       'Chester', 'Cambridge', 'Loughborough', 'Taunton', 'Northwood',\n",
       "       'Sale', 'Scarborough', 'Northampton'], dtype=object)"
      ]
     },
     "execution_count": 46,
     "metadata": {},
     "output_type": "execute_result"
    }
   ],
   "source": [
    "match_info['Venue'].unique()"
   ]
  },
  {
   "cell_type": "code",
   "execution_count": 47,
   "id": "36d59e32",
   "metadata": {},
   "outputs": [
    {
     "data": {
      "text/plain": [
       "array(['Sunrisers', 'Central Sparks', 'Thunder', 'South East Stars',\n",
       "       'Southern Vipers', 'Northern Diamonds', 'Western Storm',\n",
       "       'Lightning'], dtype=object)"
      ]
     },
     "execution_count": 47,
     "metadata": {},
     "output_type": "execute_result"
    }
   ],
   "source": [
    "match_info['Team1'].unique()"
   ]
  },
  {
   "cell_type": "code",
   "execution_count": 48,
   "id": "6ad83f02",
   "metadata": {},
   "outputs": [
    {
     "data": {
      "text/html": [
       "<div>\n",
       "<style scoped>\n",
       "    .dataframe tbody tr th:only-of-type {\n",
       "        vertical-align: middle;\n",
       "    }\n",
       "\n",
       "    .dataframe tbody tr th {\n",
       "        vertical-align: top;\n",
       "    }\n",
       "\n",
       "    .dataframe thead th {\n",
       "        text-align: right;\n",
       "    }\n",
       "</style>\n",
       "<table border=\"1\" class=\"dataframe\">\n",
       "  <thead>\n",
       "    <tr style=\"text-align: right;\">\n",
       "      <th></th>\n",
       "      <th>Venue</th>\n",
       "      <th>Winner</th>\n",
       "    </tr>\n",
       "  </thead>\n",
       "  <tbody>\n",
       "    <tr>\n",
       "      <th>0</th>\n",
       "      <td>Chelmsford</td>\n",
       "      <td>Southern Vipers</td>\n",
       "    </tr>\n",
       "    <tr>\n",
       "      <th>1</th>\n",
       "      <td>Birmingham</td>\n",
       "      <td>Northern Diamonds</td>\n",
       "    </tr>\n",
       "    <tr>\n",
       "      <th>2</th>\n",
       "      <td>Nottingham</td>\n",
       "      <td>Thunder</td>\n",
       "    </tr>\n",
       "    <tr>\n",
       "      <th>3</th>\n",
       "      <td>Beckenham</td>\n",
       "      <td>Western Storm</td>\n",
       "    </tr>\n",
       "    <tr>\n",
       "      <th>4</th>\n",
       "      <td>Bristol</td>\n",
       "      <td>Southern Vipers</td>\n",
       "    </tr>\n",
       "  </tbody>\n",
       "</table>\n",
       "</div>"
      ],
      "text/plain": [
       "        Venue             Winner\n",
       "0  Chelmsford    Southern Vipers\n",
       "1  Birmingham  Northern Diamonds\n",
       "2  Nottingham            Thunder\n",
       "3   Beckenham      Western Storm\n",
       "4     Bristol    Southern Vipers"
      ]
     },
     "execution_count": 48,
     "metadata": {},
     "output_type": "execute_result"
    }
   ],
   "source": [
    "#create another dataframe taking columns from match_info\n",
    "homeground_win = match_info[['Venue','Winner']]\n",
    "homeground_win.head()"
   ]
  },
  {
   "cell_type": "code",
   "execution_count": 49,
   "id": "e0b324c3",
   "metadata": {},
   "outputs": [],
   "source": [
    "#Add a new column\n",
    "homeground_win['HomeGround_Winner']=np.nan"
   ]
  },
  {
   "cell_type": "code",
   "execution_count": 50,
   "id": "33bd26b0",
   "metadata": {},
   "outputs": [],
   "source": [
    "#Assign homeground values as Yes or No; homeground information taken from Wikipedia\n",
    "for i in range(len(homeground_win)): \n",
    "    if homeground_win['Winner'][i]=='Sunrisers' and (homeground_win['Venue'][i]=='Chelmsford' or \n",
    "                                                     homeground_win['Venue'][i]=='Northampton' or\n",
    "                                                     homeground_win['Venue'][i]=='Cambridge' or\n",
    "                                                     homeground_win['Venue'][i]=='Northwood'):\n",
    "        homeground_win['HomeGround_Winner'][i] = \"Yes\"\n",
    "    elif homeground_win['Winner'][i]=='South East Stars' and (homeground_win['Venue'][i]=='Beckenham' or\n",
    "                                                              homeground_win['Venue'][i]=='London'):\n",
    "        homeground_win['HomeGround_Winner'][i] = \"Yes\"\n",
    "    elif homeground_win['Winner'][i]=='Southern Vipers' and (homeground_win['Venue'][i]=='Southampton' or \n",
    "                                                             homeground_win['Venue'][i]=='Brighton'):\n",
    "        homeground_win['HomeGround_Winner'][i] = \"Yes\"\n",
    "    elif homeground_win['Winner'][i]=='Thunder' and (homeground_win['Venue'][i]=='Sale' or \n",
    "                                                     homeground_win['Venue'][i]=='Liverpool' or\n",
    "                                                     homeground_win['Venue'][i]=='Chester'):\n",
    "        homeground_win['HomeGround_Winner'][i] = \"Yes\"\n",
    "    elif homeground_win['Winner'][i]=='Northern Diamonds' and (homeground_win['Venue'][i]=='Chester-le-Street' or \n",
    "                                                               homeground_win['Venue'][i]=='Leeds' or\n",
    "                                                               homeground_win['Venue'][i]=='Scarborough'):\n",
    "        homeground_win['HomeGround_Winner'][i] = \"Yes\"\n",
    "    elif homeground_win['Winner'][i]=='Western Storm' and (homeground_win['Venue'][i]=='Bristol' or \n",
    "                                                           homeground_win['Venue'][i]=='Taunton'):\n",
    "        homeground_win['HomeGround_Winner'][i] = \"Yes\"\n",
    "    elif homeground_win['Winner'][i]=='Lightning' and (homeground_win['Venue'][i]=='Leicester' or \n",
    "                                                       homeground_win['Venue'][i]=='Loughborough' or\n",
    "                                                       homeground_win['Venue'][i]=='Nottingham' or \n",
    "                                                       homeground_win['Venue'][i]=='Kibworth'):\n",
    "        homeground_win['HomeGround_Winner'][i] = \"Yes\"\n",
    "    elif homeground_win['Winner'][i]=='Central Sparks' and (homeground_win['Venue'][i]=='Worcester' or \n",
    "                                                            homeground_win['Venue'][i]=='Birmingham'):\n",
    "        homeground_win['HomeGround_Winner'][i] = \"Yes\"\n",
    "    else:\n",
    "        homeground_win['HomeGround_Winner'][i] = \"No\" "
   ]
  },
  {
   "cell_type": "code",
   "execution_count": 51,
   "id": "7c93a6b0",
   "metadata": {},
   "outputs": [
    {
     "data": {
      "text/html": [
       "<div>\n",
       "<style scoped>\n",
       "    .dataframe tbody tr th:only-of-type {\n",
       "        vertical-align: middle;\n",
       "    }\n",
       "\n",
       "    .dataframe tbody tr th {\n",
       "        vertical-align: top;\n",
       "    }\n",
       "\n",
       "    .dataframe thead th {\n",
       "        text-align: right;\n",
       "    }\n",
       "</style>\n",
       "<table border=\"1\" class=\"dataframe\">\n",
       "  <thead>\n",
       "    <tr style=\"text-align: right;\">\n",
       "      <th></th>\n",
       "      <th>Venue</th>\n",
       "      <th>Winner</th>\n",
       "      <th>HomeGround_Winner</th>\n",
       "    </tr>\n",
       "  </thead>\n",
       "  <tbody>\n",
       "    <tr>\n",
       "      <th>0</th>\n",
       "      <td>Chelmsford</td>\n",
       "      <td>Southern Vipers</td>\n",
       "      <td>No</td>\n",
       "    </tr>\n",
       "    <tr>\n",
       "      <th>1</th>\n",
       "      <td>Birmingham</td>\n",
       "      <td>Northern Diamonds</td>\n",
       "      <td>No</td>\n",
       "    </tr>\n",
       "    <tr>\n",
       "      <th>2</th>\n",
       "      <td>Nottingham</td>\n",
       "      <td>Thunder</td>\n",
       "      <td>No</td>\n",
       "    </tr>\n",
       "    <tr>\n",
       "      <th>3</th>\n",
       "      <td>Beckenham</td>\n",
       "      <td>Western Storm</td>\n",
       "      <td>No</td>\n",
       "    </tr>\n",
       "    <tr>\n",
       "      <th>4</th>\n",
       "      <td>Bristol</td>\n",
       "      <td>Southern Vipers</td>\n",
       "      <td>No</td>\n",
       "    </tr>\n",
       "    <tr>\n",
       "      <th>5</th>\n",
       "      <td>Beckenham</td>\n",
       "      <td>South East Stars</td>\n",
       "      <td>Yes</td>\n",
       "    </tr>\n",
       "    <tr>\n",
       "      <th>6</th>\n",
       "      <td>Birmingham</td>\n",
       "      <td>Central Sparks</td>\n",
       "      <td>Yes</td>\n",
       "    </tr>\n",
       "    <tr>\n",
       "      <th>7</th>\n",
       "      <td>Chester-le-Street</td>\n",
       "      <td>Northern Diamonds</td>\n",
       "      <td>Yes</td>\n",
       "    </tr>\n",
       "    <tr>\n",
       "      <th>8</th>\n",
       "      <td>Worcester</td>\n",
       "      <td>Central Sparks</td>\n",
       "      <td>Yes</td>\n",
       "    </tr>\n",
       "    <tr>\n",
       "      <th>9</th>\n",
       "      <td>Chelmsford</td>\n",
       "      <td>Western Storm</td>\n",
       "      <td>No</td>\n",
       "    </tr>\n",
       "  </tbody>\n",
       "</table>\n",
       "</div>"
      ],
      "text/plain": [
       "               Venue             Winner HomeGround_Winner\n",
       "0         Chelmsford    Southern Vipers                No\n",
       "1         Birmingham  Northern Diamonds                No\n",
       "2         Nottingham            Thunder                No\n",
       "3          Beckenham      Western Storm                No\n",
       "4            Bristol    Southern Vipers                No\n",
       "5          Beckenham   South East Stars               Yes\n",
       "6         Birmingham     Central Sparks               Yes\n",
       "7  Chester-le-Street  Northern Diamonds               Yes\n",
       "8          Worcester     Central Sparks               Yes\n",
       "9         Chelmsford      Western Storm                No"
      ]
     },
     "execution_count": 51,
     "metadata": {},
     "output_type": "execute_result"
    }
   ],
   "source": [
    "homeground_win.head(10)"
   ]
  },
  {
   "cell_type": "code",
   "execution_count": 52,
   "id": "ea3fafa6",
   "metadata": {},
   "outputs": [
    {
     "data": {
      "text/plain": [
       "Yes    28\n",
       "No     27\n",
       "Name: HomeGround_Winner, dtype: int64"
      ]
     },
     "execution_count": 52,
     "metadata": {},
     "output_type": "execute_result"
    }
   ],
   "source": [
    "homeground_win['HomeGround_Winner'].value_counts()"
   ]
  },
  {
   "cell_type": "code",
   "execution_count": 53,
   "id": "a9614bfa",
   "metadata": {},
   "outputs": [
    {
     "data": {
      "image/png": "[encoded data removed]",
      "text/plain": [
       "<Figure size 504x360 with 1 Axes>"
      ]
     },
     "metadata": {},
     "output_type": "display_data"
    }
   ],
   "source": [
    "#plot percentages of Home Ground Winners\n",
    "plt.figure(figsize=(7, 5)) \n",
    "plt.title('Victory Venue') \n",
    "outcome=[\"on homeground\", \"outside homeground\"]\n",
    "homeground_win['HomeGround_Winner'].value_counts().plot.pie(labels=outcome,autopct=\"%3.1f%%\",\n",
    "                                                         startangle=90, colors=['palegreen','powderblue']) \n",
    "plt.ylabel('')\n",
    "\n",
    "plt.savefig('C:\\\\Users\\\\DELL\\\\Cricdata\\HomeGroundWinners.jpeg')\n",
    "plt.show()"
   ]
  },
  {
   "cell_type": "markdown",
   "id": "7006c260",
   "metadata": {},
   "source": [
    "51% of matches were won on homeground"
   ]
  },
  {
   "cell_type": "markdown",
   "id": "01ff5698",
   "metadata": {},
   "source": [
    "## <center> 3. Winning Margins <center>"
   ]
  },
  {
   "cell_type": "markdown",
   "id": "0b09f8d3",
   "metadata": {},
   "source": [
    "When a team wins by defending their first innings run total, then the winning margin is represented by runs and when a team wins by successfully chasing the run target of the opponent then the winning margin is given in by wickets. Winning ‘by runs’ attributed to the bowling team, denotes the number of runs by which the team batting second falls short off reaching the required target. Winning ‘by wickets’ attributed to the second batting team, denotes the number of remaining wickets or batters left to bat for the team when they successfully score the required target runs.  There have been victories of both great and narrow margins. "
   ]
  },
  {
   "cell_type": "code",
   "execution_count": 55,
   "id": "e6ef1dec",
   "metadata": {},
   "outputs": [
    {
     "data": {
      "text/html": [
       "<div>\n",
       "<style scoped>\n",
       "    .dataframe tbody tr th:only-of-type {\n",
       "        vertical-align: middle;\n",
       "    }\n",
       "\n",
       "    .dataframe tbody tr th {\n",
       "        vertical-align: top;\n",
       "    }\n",
       "\n",
       "    .dataframe thead th {\n",
       "        text-align: right;\n",
       "    }\n",
       "</style>\n",
       "<table border=\"1\" class=\"dataframe\">\n",
       "  <thead>\n",
       "    <tr style=\"text-align: right;\">\n",
       "      <th></th>\n",
       "      <th>match_id</th>\n",
       "      <th>Team1</th>\n",
       "      <th>Team2</th>\n",
       "      <th>Season</th>\n",
       "      <th>Date</th>\n",
       "      <th>Venue</th>\n",
       "      <th>Toss_Winner</th>\n",
       "      <th>Toss_Decision</th>\n",
       "      <th>Winner</th>\n",
       "      <th>Winning_Margin</th>\n",
       "      <th>ByWickets</th>\n",
       "      <th>ByRuns</th>\n",
       "    </tr>\n",
       "  </thead>\n",
       "  <tbody>\n",
       "    <tr>\n",
       "      <th>0</th>\n",
       "      <td>1229326</td>\n",
       "      <td>Sunrisers</td>\n",
       "      <td>Southern Vipers</td>\n",
       "      <td>2020</td>\n",
       "      <td>29-08-2020</td>\n",
       "      <td>Chelmsford</td>\n",
       "      <td>Southern Vipers</td>\n",
       "      <td>field</td>\n",
       "      <td>Southern Vipers</td>\n",
       "      <td>7</td>\n",
       "      <td>Y</td>\n",
       "      <td>N</td>\n",
       "    </tr>\n",
       "    <tr>\n",
       "      <th>1</th>\n",
       "      <td>1229327</td>\n",
       "      <td>Central Sparks</td>\n",
       "      <td>Northern Diamonds</td>\n",
       "      <td>2020</td>\n",
       "      <td>29-08-2020</td>\n",
       "      <td>Birmingham</td>\n",
       "      <td>Central Sparks</td>\n",
       "      <td>bat</td>\n",
       "      <td>Northern Diamonds</td>\n",
       "      <td>9</td>\n",
       "      <td>Y</td>\n",
       "      <td>N</td>\n",
       "    </tr>\n",
       "    <tr>\n",
       "      <th>2</th>\n",
       "      <td>1229328</td>\n",
       "      <td>Thunder</td>\n",
       "      <td>Lightning</td>\n",
       "      <td>2020</td>\n",
       "      <td>29-08-2020</td>\n",
       "      <td>Nottingham</td>\n",
       "      <td>Thunder</td>\n",
       "      <td>bat</td>\n",
       "      <td>Thunder</td>\n",
       "      <td>4</td>\n",
       "      <td>N</td>\n",
       "      <td>Y</td>\n",
       "    </tr>\n",
       "    <tr>\n",
       "      <th>3</th>\n",
       "      <td>1229329</td>\n",
       "      <td>South East Stars</td>\n",
       "      <td>Western Storm</td>\n",
       "      <td>2020</td>\n",
       "      <td>29-08-2020</td>\n",
       "      <td>Beckenham</td>\n",
       "      <td>Western Storm</td>\n",
       "      <td>field</td>\n",
       "      <td>Western Storm</td>\n",
       "      <td>6</td>\n",
       "      <td>Y</td>\n",
       "      <td>N</td>\n",
       "    </tr>\n",
       "    <tr>\n",
       "      <th>4</th>\n",
       "      <td>1229330</td>\n",
       "      <td>Southern Vipers</td>\n",
       "      <td>Western Storm</td>\n",
       "      <td>2020</td>\n",
       "      <td>31-08-2020</td>\n",
       "      <td>Bristol</td>\n",
       "      <td>Western Storm</td>\n",
       "      <td>field</td>\n",
       "      <td>Southern Vipers</td>\n",
       "      <td>22</td>\n",
       "      <td>N</td>\n",
       "      <td>Y</td>\n",
       "    </tr>\n",
       "  </tbody>\n",
       "</table>\n",
       "</div>"
      ],
      "text/plain": [
       "   match_id             Team1              Team2  Season        Date  \\\n",
       "0   1229326         Sunrisers    Southern Vipers    2020  29-08-2020   \n",
       "1   1229327    Central Sparks  Northern Diamonds    2020  29-08-2020   \n",
       "2   1229328           Thunder          Lightning    2020  29-08-2020   \n",
       "3   1229329  South East Stars      Western Storm    2020  29-08-2020   \n",
       "4   1229330   Southern Vipers      Western Storm    2020  31-08-2020   \n",
       "\n",
       "        Venue      Toss_Winner Toss_Decision             Winner  \\\n",
       "0  Chelmsford  Southern Vipers         field    Southern Vipers   \n",
       "1  Birmingham   Central Sparks           bat  Northern Diamonds   \n",
       "2  Nottingham          Thunder           bat            Thunder   \n",
       "3   Beckenham    Western Storm         field      Western Storm   \n",
       "4     Bristol    Western Storm         field    Southern Vipers   \n",
       "\n",
       "   Winning_Margin ByWickets ByRuns  \n",
       "0               7         Y      N  \n",
       "1               9         Y      N  \n",
       "2               4         N      Y  \n",
       "3               6         Y      N  \n",
       "4              22         N      Y  "
      ]
     },
     "execution_count": 55,
     "metadata": {},
     "output_type": "execute_result"
    }
   ],
   "source": [
    "match_info.head()"
   ]
  },
  {
   "cell_type": "code",
   "execution_count": 56,
   "id": "bfba5a58",
   "metadata": {},
   "outputs": [],
   "source": [
    "#create another dataframe\n",
    "runs_margin = match_info[match_info['ByRuns']==\"Y\"][['Team1','Team2','Date','Winner','Winning_Margin']]"
   ]
  },
  {
   "cell_type": "code",
   "execution_count": 57,
   "id": "44084bc6",
   "metadata": {},
   "outputs": [],
   "source": [
    "#sort in descending order\n",
    "runs_margin = runs_margin.sort_values('Winning_Margin', ascending = False)"
   ]
  },
  {
   "cell_type": "code",
   "execution_count": 58,
   "id": "11d11982",
   "metadata": {},
   "outputs": [],
   "source": [
    "runs_margin.reset_index(drop=True,inplace=True)"
   ]
  },
  {
   "cell_type": "code",
   "execution_count": 59,
   "id": "1348d65d",
   "metadata": {},
   "outputs": [
    {
     "data": {
      "text/html": [
       "<div>\n",
       "<style scoped>\n",
       "    .dataframe tbody tr th:only-of-type {\n",
       "        vertical-align: middle;\n",
       "    }\n",
       "\n",
       "    .dataframe tbody tr th {\n",
       "        vertical-align: top;\n",
       "    }\n",
       "\n",
       "    .dataframe thead th {\n",
       "        text-align: right;\n",
       "    }\n",
       "</style>\n",
       "<table border=\"1\" class=\"dataframe\">\n",
       "  <thead>\n",
       "    <tr style=\"text-align: right;\">\n",
       "      <th></th>\n",
       "      <th>Team1</th>\n",
       "      <th>Team2</th>\n",
       "      <th>Date</th>\n",
       "      <th>Winner</th>\n",
       "      <th>Winning_Margin</th>\n",
       "    </tr>\n",
       "  </thead>\n",
       "  <tbody>\n",
       "    <tr>\n",
       "      <th>0</th>\n",
       "      <td>South East Stars</td>\n",
       "      <td>Sunrisers</td>\n",
       "      <td>29-05-2021</td>\n",
       "      <td>South East Stars</td>\n",
       "      <td>135</td>\n",
       "    </tr>\n",
       "    <tr>\n",
       "      <th>1</th>\n",
       "      <td>Lightning</td>\n",
       "      <td>Thunder</td>\n",
       "      <td>06-06-2021</td>\n",
       "      <td>Lightning</td>\n",
       "      <td>134</td>\n",
       "    </tr>\n",
       "    <tr>\n",
       "      <th>2</th>\n",
       "      <td>Central Sparks</td>\n",
       "      <td>Southern Vipers</td>\n",
       "      <td>05-06-2021</td>\n",
       "      <td>Central Sparks</td>\n",
       "      <td>120</td>\n",
       "    </tr>\n",
       "    <tr>\n",
       "      <th>3</th>\n",
       "      <td>Central Sparks</td>\n",
       "      <td>South East Stars</td>\n",
       "      <td>12-09-2021</td>\n",
       "      <td>Central Sparks</td>\n",
       "      <td>115</td>\n",
       "    </tr>\n",
       "    <tr>\n",
       "      <th>4</th>\n",
       "      <td>Southern Vipers</td>\n",
       "      <td>South East Stars</td>\n",
       "      <td>05-09-2020</td>\n",
       "      <td>Southern Vipers</td>\n",
       "      <td>111</td>\n",
       "    </tr>\n",
       "    <tr>\n",
       "      <th>5</th>\n",
       "      <td>Northern Diamonds</td>\n",
       "      <td>Thunder</td>\n",
       "      <td>12-09-2021</td>\n",
       "      <td>Northern Diamonds</td>\n",
       "      <td>105</td>\n",
       "    </tr>\n",
       "    <tr>\n",
       "      <th>6</th>\n",
       "      <td>Western Storm</td>\n",
       "      <td>Sunrisers</td>\n",
       "      <td>05-09-2020</td>\n",
       "      <td>Western Storm</td>\n",
       "      <td>86</td>\n",
       "    </tr>\n",
       "    <tr>\n",
       "      <th>7</th>\n",
       "      <td>South East Stars</td>\n",
       "      <td>Sunrisers</td>\n",
       "      <td>31-08-2020</td>\n",
       "      <td>South East Stars</td>\n",
       "      <td>77</td>\n",
       "    </tr>\n",
       "    <tr>\n",
       "      <th>8</th>\n",
       "      <td>Northern Diamonds</td>\n",
       "      <td>Thunder</td>\n",
       "      <td>10-09-2020</td>\n",
       "      <td>Northern Diamonds</td>\n",
       "      <td>73</td>\n",
       "    </tr>\n",
       "    <tr>\n",
       "      <th>9</th>\n",
       "      <td>Thunder</td>\n",
       "      <td>Lightning</td>\n",
       "      <td>13-09-2020</td>\n",
       "      <td>Thunder</td>\n",
       "      <td>72</td>\n",
       "    </tr>\n",
       "  </tbody>\n",
       "</table>\n",
       "</div>"
      ],
      "text/plain": [
       "               Team1             Team2        Date             Winner  \\\n",
       "0   South East Stars         Sunrisers  29-05-2021   South East Stars   \n",
       "1          Lightning           Thunder  06-06-2021          Lightning   \n",
       "2     Central Sparks   Southern Vipers  05-06-2021     Central Sparks   \n",
       "3     Central Sparks  South East Stars  12-09-2021     Central Sparks   \n",
       "4    Southern Vipers  South East Stars  05-09-2020    Southern Vipers   \n",
       "5  Northern Diamonds           Thunder  12-09-2021  Northern Diamonds   \n",
       "6      Western Storm         Sunrisers  05-09-2020      Western Storm   \n",
       "7   South East Stars         Sunrisers  31-08-2020   South East Stars   \n",
       "8  Northern Diamonds           Thunder  10-09-2020  Northern Diamonds   \n",
       "9            Thunder         Lightning  13-09-2020            Thunder   \n",
       "\n",
       "   Winning_Margin  \n",
       "0             135  \n",
       "1             134  \n",
       "2             120  \n",
       "3             115  \n",
       "4             111  \n",
       "5             105  \n",
       "6              86  \n",
       "7              77  \n",
       "8              73  \n",
       "9              72  "
      ]
     },
     "execution_count": 59,
     "metadata": {},
     "output_type": "execute_result"
    }
   ],
   "source": [
    "runs_margin.head(10)"
   ]
  },
  {
   "cell_type": "code",
   "execution_count": 60,
   "id": "16751742",
   "metadata": {},
   "outputs": [],
   "source": [
    "#add a new column\n",
    "runs_margin['message'] = np.nan\n",
    "for i in range(len(runs_margin)):\n",
    "    if runs_margin['Winner'][i] == runs_margin['Team1'][i]:\n",
    "        runs_margin['message'][i] = \"beat \"+str(runs_margin['Team2'][i])+\" by \"+str(runs_margin['Winning_Margin'][i])+\" runs \"+\"(\"+runs_margin['Date'][i]+\")\"      \n",
    "    else:\n",
    "        runs_margin['message'][i] = \"beat \"+str(runs_margin['Team1'][i])+\" by \"+str(runs_margin['Winning_Margin'][i])+\" runs \"+\"(\"+runs_margin['Date'][i]+\")\""
   ]
  },
  {
   "cell_type": "code",
   "execution_count": 61,
   "id": "3484d55e",
   "metadata": {},
   "outputs": [
    {
     "data": {
      "text/html": [
       "<div>\n",
       "<style scoped>\n",
       "    .dataframe tbody tr th:only-of-type {\n",
       "        vertical-align: middle;\n",
       "    }\n",
       "\n",
       "    .dataframe tbody tr th {\n",
       "        vertical-align: top;\n",
       "    }\n",
       "\n",
       "    .dataframe thead th {\n",
       "        text-align: right;\n",
       "    }\n",
       "</style>\n",
       "<table border=\"1\" class=\"dataframe\">\n",
       "  <thead>\n",
       "    <tr style=\"text-align: right;\">\n",
       "      <th></th>\n",
       "      <th>Team1</th>\n",
       "      <th>Team2</th>\n",
       "      <th>Date</th>\n",
       "      <th>Winner</th>\n",
       "      <th>Winning_Margin</th>\n",
       "      <th>message</th>\n",
       "    </tr>\n",
       "  </thead>\n",
       "  <tbody>\n",
       "    <tr>\n",
       "      <th>0</th>\n",
       "      <td>South East Stars</td>\n",
       "      <td>Sunrisers</td>\n",
       "      <td>29-05-2021</td>\n",
       "      <td>South East Stars</td>\n",
       "      <td>135</td>\n",
       "      <td>beat Sunrisers by 135 runs (29-05-2021)</td>\n",
       "    </tr>\n",
       "    <tr>\n",
       "      <th>1</th>\n",
       "      <td>Lightning</td>\n",
       "      <td>Thunder</td>\n",
       "      <td>06-06-2021</td>\n",
       "      <td>Lightning</td>\n",
       "      <td>134</td>\n",
       "      <td>beat Thunder by 134 runs (06-06-2021)</td>\n",
       "    </tr>\n",
       "    <tr>\n",
       "      <th>2</th>\n",
       "      <td>Central Sparks</td>\n",
       "      <td>Southern Vipers</td>\n",
       "      <td>05-06-2021</td>\n",
       "      <td>Central Sparks</td>\n",
       "      <td>120</td>\n",
       "      <td>beat Southern Vipers by 120 runs (05-06-2021)</td>\n",
       "    </tr>\n",
       "    <tr>\n",
       "      <th>3</th>\n",
       "      <td>Central Sparks</td>\n",
       "      <td>South East Stars</td>\n",
       "      <td>12-09-2021</td>\n",
       "      <td>Central Sparks</td>\n",
       "      <td>115</td>\n",
       "      <td>beat South East Stars by 115 runs (12-09-2021)</td>\n",
       "    </tr>\n",
       "    <tr>\n",
       "      <th>4</th>\n",
       "      <td>Southern Vipers</td>\n",
       "      <td>South East Stars</td>\n",
       "      <td>05-09-2020</td>\n",
       "      <td>Southern Vipers</td>\n",
       "      <td>111</td>\n",
       "      <td>beat South East Stars by 111 runs (05-09-2020)</td>\n",
       "    </tr>\n",
       "    <tr>\n",
       "      <th>5</th>\n",
       "      <td>Northern Diamonds</td>\n",
       "      <td>Thunder</td>\n",
       "      <td>12-09-2021</td>\n",
       "      <td>Northern Diamonds</td>\n",
       "      <td>105</td>\n",
       "      <td>beat Thunder by 105 runs (12-09-2021)</td>\n",
       "    </tr>\n",
       "    <tr>\n",
       "      <th>6</th>\n",
       "      <td>Western Storm</td>\n",
       "      <td>Sunrisers</td>\n",
       "      <td>05-09-2020</td>\n",
       "      <td>Western Storm</td>\n",
       "      <td>86</td>\n",
       "      <td>beat Sunrisers by 86 runs (05-09-2020)</td>\n",
       "    </tr>\n",
       "    <tr>\n",
       "      <th>7</th>\n",
       "      <td>South East Stars</td>\n",
       "      <td>Sunrisers</td>\n",
       "      <td>31-08-2020</td>\n",
       "      <td>South East Stars</td>\n",
       "      <td>77</td>\n",
       "      <td>beat Sunrisers by 77 runs (31-08-2020)</td>\n",
       "    </tr>\n",
       "    <tr>\n",
       "      <th>8</th>\n",
       "      <td>Northern Diamonds</td>\n",
       "      <td>Thunder</td>\n",
       "      <td>10-09-2020</td>\n",
       "      <td>Northern Diamonds</td>\n",
       "      <td>73</td>\n",
       "      <td>beat Thunder by 73 runs (10-09-2020)</td>\n",
       "    </tr>\n",
       "    <tr>\n",
       "      <th>9</th>\n",
       "      <td>Thunder</td>\n",
       "      <td>Lightning</td>\n",
       "      <td>13-09-2020</td>\n",
       "      <td>Thunder</td>\n",
       "      <td>72</td>\n",
       "      <td>beat Lightning by 72 runs (13-09-2020)</td>\n",
       "    </tr>\n",
       "  </tbody>\n",
       "</table>\n",
       "</div>"
      ],
      "text/plain": [
       "               Team1             Team2        Date             Winner  \\\n",
       "0   South East Stars         Sunrisers  29-05-2021   South East Stars   \n",
       "1          Lightning           Thunder  06-06-2021          Lightning   \n",
       "2     Central Sparks   Southern Vipers  05-06-2021     Central Sparks   \n",
       "3     Central Sparks  South East Stars  12-09-2021     Central Sparks   \n",
       "4    Southern Vipers  South East Stars  05-09-2020    Southern Vipers   \n",
       "5  Northern Diamonds           Thunder  12-09-2021  Northern Diamonds   \n",
       "6      Western Storm         Sunrisers  05-09-2020      Western Storm   \n",
       "7   South East Stars         Sunrisers  31-08-2020   South East Stars   \n",
       "8  Northern Diamonds           Thunder  10-09-2020  Northern Diamonds   \n",
       "9            Thunder         Lightning  13-09-2020            Thunder   \n",
       "\n",
       "   Winning_Margin                                         message  \n",
       "0             135         beat Sunrisers by 135 runs (29-05-2021)  \n",
       "1             134           beat Thunder by 134 runs (06-06-2021)  \n",
       "2             120   beat Southern Vipers by 120 runs (05-06-2021)  \n",
       "3             115  beat South East Stars by 115 runs (12-09-2021)  \n",
       "4             111  beat South East Stars by 111 runs (05-09-2020)  \n",
       "5             105           beat Thunder by 105 runs (12-09-2021)  \n",
       "6              86          beat Sunrisers by 86 runs (05-09-2020)  \n",
       "7              77          beat Sunrisers by 77 runs (31-08-2020)  \n",
       "8              73            beat Thunder by 73 runs (10-09-2020)  \n",
       "9              72          beat Lightning by 72 runs (13-09-2020)  "
      ]
     },
     "execution_count": 61,
     "metadata": {},
     "output_type": "execute_result"
    }
   ],
   "source": [
    "runs_margin.head(10)"
   ]
  },
  {
   "cell_type": "code",
   "execution_count": 62,
   "id": "b8210148",
   "metadata": {},
   "outputs": [
    {
     "data": {
      "text/plain": [
       "<Figure size 36x144 with 0 Axes>"
      ]
     },
     "metadata": {},
     "output_type": "display_data"
    },
    {
     "data": {
      "image/png": "[encoded data removed]",
      "text/plain": [
       "<Figure size 360x360 with 1 Axes>"
      ]
     },
     "metadata": {
      "needs_background": "light"
     },
     "output_type": "display_data"
    }
   ],
   "source": [
    "#plot distribution of  wins by runs\n",
    "plt.figure(figsize=(0.5,2))\n",
    "sns.displot(data=runs_margin,x='Winning_Margin',color=\"teal\",bins=25)\n",
    "plt.title('Winning Margin by Runs')\n",
    "plt.xlabel('Runs margin')\n",
    "\n",
    "plt.savefig('C:\\\\Users\\\\DELL\\\\Cricdata\\\\Winbyruns_hist.jpeg',bbox_inches='tight')\n",
    "plt.show()"
   ]
  },
  {
   "cell_type": "markdown",
   "id": "40854d37",
   "metadata": {},
   "source": [
    "Most matches have been won by 20 to 80 runs by the bowling team. There have been some close matches where the team managed to win by narrow run margins in the range of 1 to 10 runs. Some victories have also been achieved comfortably by high run margins of above 100 runs. "
   ]
  },
  {
   "cell_type": "code",
   "execution_count": 63,
   "id": "4ec8ad54",
   "metadata": {},
   "outputs": [
    {
     "name": "stdout",
     "output_type": "stream",
     "text": [
      "<class 'pandas.core.frame.DataFrame'>\n",
      "RangeIndex: 28 entries, 0 to 27\n",
      "Data columns (total 6 columns):\n",
      " #   Column          Non-Null Count  Dtype \n",
      "---  ------          --------------  ----- \n",
      " 0   Team1           28 non-null     object\n",
      " 1   Team2           28 non-null     object\n",
      " 2   Date            28 non-null     object\n",
      " 3   Winner          28 non-null     object\n",
      " 4   Winning_Margin  28 non-null     int64 \n",
      " 5   message         28 non-null     object\n",
      "dtypes: int64(1), object(5)\n",
      "memory usage: 1.4+ KB\n"
     ]
    }
   ],
   "source": [
    "runs_margin.info()"
   ]
  },
  {
   "cell_type": "code",
   "execution_count": 64,
   "id": "1520c57c",
   "metadata": {},
   "outputs": [
    {
     "data": {
      "image/png": "[encoded data removed]",
      "text/plain": [
       "<Figure size 504x360 with 1 Axes>"
      ]
     },
     "metadata": {
      "needs_background": "light"
     },
     "output_type": "display_data"
    }
   ],
   "source": [
    "#plot top 10 highest winning margins by runs\n",
    "df = runs_margin.head(10)\n",
    "\n",
    "plt.figure(figsize=(7, 5))\n",
    "\n",
    "plt.title('Top 10 Highest Wins by Runs')\n",
    "ax = sns.barplot(x=df.Winning_Margin, y=df.index, orient='h',palette='crest_r_d')\n",
    "ax.set_yticklabels(df.Winner)\n",
    "plt.xlabel('')\n",
    " \n",
    "# write messages on bars\n",
    "for bar, msg in zip(ax.patches, df['message']):\n",
    "    ax.text(0.5, bar.get_y()+bar.get_height()/2, msg, color='White', ha='left', va='center')\n",
    "\n",
    "plt.savefig('C:\\\\Users\\\\DELL\\\\Cricdata\\\\Top10WinsbyRuns.jpeg',bbox_inches='tight')\n",
    "plt.show()"
   ]
  },
  {
   "cell_type": "code",
   "execution_count": 65,
   "id": "cd3b0ef3",
   "metadata": {},
   "outputs": [
    {
     "data": {
      "image/png": "[encoded data removed]",
      "text/plain": [
       "<Figure size 504x360 with 1 Axes>"
      ]
     },
     "metadata": {
      "needs_background": "light"
     },
     "output_type": "display_data"
    }
   ],
   "source": [
    "#plot top 10 narrowest winning margins by runs\n",
    "df1 = runs_margin.tail(10)#sort_values('Winning_Margin', ascending=True)\n",
    "\n",
    "plt.figure(figsize=(7, 5))\n",
    "\n",
    "plt.title('Top 10 Narrowest Wins by Runs')\n",
    "ax = sns.barplot(x=df1.Winning_Margin,y=df1.index,orient='h',palette='crest',hue=df1.Winning_Margin,dodge=False)\n",
    "ax.set_yticklabels(df1.Winner)\n",
    "ax.set_xlim(0,140) #set x axis limits\n",
    "ax.legend_.remove() #hide the legend\n",
    "plt.ylim(reversed(plt.ylim())) #invert the y-axis for ascending order\n",
    "plt.xlabel('')\n",
    " \n",
    "# write messages on bars\n",
    "for bar, msg in zip(ax.patches, df1['message']):\n",
    "    ax.text(40.0, bar.get_y()+bar.get_height()/2, msg, color='black', ha='left', va='center',horizontalalignment='right')\n",
    "\n",
    "plt.savefig('C:\\\\Users\\\\DELL\\\\Cricdata\\\\Narrowest10WinsbyRuns.jpeg',bbox_inches='tight')\n",
    "plt.show()"
   ]
  },
  {
   "cell_type": "code",
   "execution_count": 66,
   "id": "f336f7be",
   "metadata": {},
   "outputs": [
    {
     "data": {
      "text/html": [
       "<div>\n",
       "<style scoped>\n",
       "    .dataframe tbody tr th:only-of-type {\n",
       "        vertical-align: middle;\n",
       "    }\n",
       "\n",
       "    .dataframe tbody tr th {\n",
       "        vertical-align: top;\n",
       "    }\n",
       "\n",
       "    .dataframe thead th {\n",
       "        text-align: right;\n",
       "    }\n",
       "</style>\n",
       "<table border=\"1\" class=\"dataframe\">\n",
       "  <thead>\n",
       "    <tr style=\"text-align: right;\">\n",
       "      <th></th>\n",
       "      <th>Team1</th>\n",
       "      <th>Team2</th>\n",
       "      <th>Date</th>\n",
       "      <th>Winner</th>\n",
       "      <th>Winning_Margin</th>\n",
       "    </tr>\n",
       "  </thead>\n",
       "  <tbody>\n",
       "    <tr>\n",
       "      <th>0</th>\n",
       "      <td>Sunrisers</td>\n",
       "      <td>Northern Diamonds</td>\n",
       "      <td>05-06-2021</td>\n",
       "      <td>Northern Diamonds</td>\n",
       "      <td>9</td>\n",
       "    </tr>\n",
       "    <tr>\n",
       "      <th>1</th>\n",
       "      <td>Central Sparks</td>\n",
       "      <td>Northern Diamonds</td>\n",
       "      <td>29-08-2020</td>\n",
       "      <td>Northern Diamonds</td>\n",
       "      <td>9</td>\n",
       "    </tr>\n",
       "    <tr>\n",
       "      <th>2</th>\n",
       "      <td>Thunder</td>\n",
       "      <td>Central Sparks</td>\n",
       "      <td>05-09-2020</td>\n",
       "      <td>Central Sparks</td>\n",
       "      <td>8</td>\n",
       "    </tr>\n",
       "    <tr>\n",
       "      <th>3</th>\n",
       "      <td>Western Storm</td>\n",
       "      <td>Southern Vipers</td>\n",
       "      <td>12-06-2021</td>\n",
       "      <td>Southern Vipers</td>\n",
       "      <td>8</td>\n",
       "    </tr>\n",
       "    <tr>\n",
       "      <th>4</th>\n",
       "      <td>Western Storm</td>\n",
       "      <td>Northern Diamonds</td>\n",
       "      <td>10-09-2021</td>\n",
       "      <td>Northern Diamonds</td>\n",
       "      <td>7</td>\n",
       "    </tr>\n",
       "    <tr>\n",
       "      <th>5</th>\n",
       "      <td>South East Stars</td>\n",
       "      <td>Southern Vipers</td>\n",
       "      <td>31-05-2021</td>\n",
       "      <td>Southern Vipers</td>\n",
       "      <td>7</td>\n",
       "    </tr>\n",
       "    <tr>\n",
       "      <th>6</th>\n",
       "      <td>Sunrisers</td>\n",
       "      <td>Southern Vipers</td>\n",
       "      <td>29-08-2020</td>\n",
       "      <td>Southern Vipers</td>\n",
       "      <td>7</td>\n",
       "    </tr>\n",
       "    <tr>\n",
       "      <th>7</th>\n",
       "      <td>South East Stars</td>\n",
       "      <td>Western Storm</td>\n",
       "      <td>11-09-2020</td>\n",
       "      <td>Western Storm</td>\n",
       "      <td>7</td>\n",
       "    </tr>\n",
       "    <tr>\n",
       "      <th>8</th>\n",
       "      <td>Sunrisers</td>\n",
       "      <td>South East Stars</td>\n",
       "      <td>13-09-2020</td>\n",
       "      <td>South East Stars</td>\n",
       "      <td>6</td>\n",
       "    </tr>\n",
       "    <tr>\n",
       "      <th>9</th>\n",
       "      <td>Sunrisers</td>\n",
       "      <td>Central Sparks</td>\n",
       "      <td>10-09-2021</td>\n",
       "      <td>Central Sparks</td>\n",
       "      <td>6</td>\n",
       "    </tr>\n",
       "  </tbody>\n",
       "</table>\n",
       "</div>"
      ],
      "text/plain": [
       "              Team1              Team2        Date             Winner  \\\n",
       "0         Sunrisers  Northern Diamonds  05-06-2021  Northern Diamonds   \n",
       "1    Central Sparks  Northern Diamonds  29-08-2020  Northern Diamonds   \n",
       "2           Thunder     Central Sparks  05-09-2020     Central Sparks   \n",
       "3     Western Storm    Southern Vipers  12-06-2021    Southern Vipers   \n",
       "4     Western Storm  Northern Diamonds  10-09-2021  Northern Diamonds   \n",
       "5  South East Stars    Southern Vipers  31-05-2021    Southern Vipers   \n",
       "6         Sunrisers    Southern Vipers  29-08-2020    Southern Vipers   \n",
       "7  South East Stars      Western Storm  11-09-2020      Western Storm   \n",
       "8         Sunrisers   South East Stars  13-09-2020   South East Stars   \n",
       "9         Sunrisers     Central Sparks  10-09-2021     Central Sparks   \n",
       "\n",
       "   Winning_Margin  \n",
       "0               9  \n",
       "1               9  \n",
       "2               8  \n",
       "3               8  \n",
       "4               7  \n",
       "5               7  \n",
       "6               7  \n",
       "7               7  \n",
       "8               6  \n",
       "9               6  "
      ]
     },
     "execution_count": 66,
     "metadata": {},
     "output_type": "execute_result"
    }
   ],
   "source": [
    "#Likewise do the same for wickets\n",
    "wickets_margin = match_info[match_info['ByWickets']==\"Y\"][['Team1','Team2','Date','Winner','Winning_Margin']]\n",
    "wickets_margin = wickets_margin.sort_values('Winning_Margin', ascending = False)\n",
    "wickets_margin.reset_index(drop=True,inplace=True)\n",
    "wickets_margin.head(10)"
   ]
  },
  {
   "cell_type": "code",
   "execution_count": 67,
   "id": "bcca63fa",
   "metadata": {},
   "outputs": [
    {
     "data": {
      "text/plain": [
       "6    7\n",
       "7    4\n",
       "4    3\n",
       "3    3\n",
       "2    3\n",
       "9    2\n",
       "8    2\n",
       "5    2\n",
       "1    1\n",
       "Name: Winning_Margin, dtype: int64"
      ]
     },
     "execution_count": 67,
     "metadata": {},
     "output_type": "execute_result"
    }
   ],
   "source": [
    "wickets_margin['Winning_Margin'].value_counts()"
   ]
  },
  {
   "cell_type": "code",
   "execution_count": 68,
   "id": "e3ce79e6",
   "metadata": {},
   "outputs": [
    {
     "data": {
      "text/html": [
       "<div>\n",
       "<style scoped>\n",
       "    .dataframe tbody tr th:only-of-type {\n",
       "        vertical-align: middle;\n",
       "    }\n",
       "\n",
       "    .dataframe tbody tr th {\n",
       "        vertical-align: top;\n",
       "    }\n",
       "\n",
       "    .dataframe thead th {\n",
       "        text-align: right;\n",
       "    }\n",
       "</style>\n",
       "<table border=\"1\" class=\"dataframe\">\n",
       "  <thead>\n",
       "    <tr style=\"text-align: right;\">\n",
       "      <th></th>\n",
       "      <th>Team1</th>\n",
       "      <th>Team2</th>\n",
       "      <th>Date</th>\n",
       "      <th>Winner</th>\n",
       "      <th>Winning_Margin</th>\n",
       "    </tr>\n",
       "  </thead>\n",
       "  <tbody>\n",
       "    <tr>\n",
       "      <th>17</th>\n",
       "      <td>Lightning</td>\n",
       "      <td>Southern Vipers</td>\n",
       "      <td>29-05-2021</td>\n",
       "      <td>Southern Vipers</td>\n",
       "      <td>4</td>\n",
       "    </tr>\n",
       "    <tr>\n",
       "      <th>18</th>\n",
       "      <td>South East Stars</td>\n",
       "      <td>Southern Vipers</td>\n",
       "      <td>19-09-2020</td>\n",
       "      <td>Southern Vipers</td>\n",
       "      <td>4</td>\n",
       "    </tr>\n",
       "    <tr>\n",
       "      <th>19</th>\n",
       "      <td>Thunder</td>\n",
       "      <td>Central Sparks</td>\n",
       "      <td>31-08-2020</td>\n",
       "      <td>Central Sparks</td>\n",
       "      <td>4</td>\n",
       "    </tr>\n",
       "    <tr>\n",
       "      <th>20</th>\n",
       "      <td>South East Stars</td>\n",
       "      <td>Northern Diamonds</td>\n",
       "      <td>12-06-2021</td>\n",
       "      <td>Northern Diamonds</td>\n",
       "      <td>3</td>\n",
       "    </tr>\n",
       "    <tr>\n",
       "      <th>21</th>\n",
       "      <td>Thunder</td>\n",
       "      <td>Southern Vipers</td>\n",
       "      <td>10-09-2021</td>\n",
       "      <td>Southern Vipers</td>\n",
       "      <td>3</td>\n",
       "    </tr>\n",
       "    <tr>\n",
       "      <th>22</th>\n",
       "      <td>Northern Diamonds</td>\n",
       "      <td>Southern Vipers</td>\n",
       "      <td>25-09-2021</td>\n",
       "      <td>Southern Vipers</td>\n",
       "      <td>3</td>\n",
       "    </tr>\n",
       "    <tr>\n",
       "      <th>23</th>\n",
       "      <td>Central Sparks</td>\n",
       "      <td>Thunder</td>\n",
       "      <td>12-06-2021</td>\n",
       "      <td>Thunder</td>\n",
       "      <td>2</td>\n",
       "    </tr>\n",
       "    <tr>\n",
       "      <th>24</th>\n",
       "      <td>Northern Diamonds</td>\n",
       "      <td>Central Sparks</td>\n",
       "      <td>29-05-2021</td>\n",
       "      <td>Central Sparks</td>\n",
       "      <td>2</td>\n",
       "    </tr>\n",
       "    <tr>\n",
       "      <th>25</th>\n",
       "      <td>Lightning</td>\n",
       "      <td>Northern Diamonds</td>\n",
       "      <td>05-09-2020</td>\n",
       "      <td>Northern Diamonds</td>\n",
       "      <td>2</td>\n",
       "    </tr>\n",
       "    <tr>\n",
       "      <th>26</th>\n",
       "      <td>Thunder</td>\n",
       "      <td>Western Storm</td>\n",
       "      <td>29-05-2021</td>\n",
       "      <td>Western Storm</td>\n",
       "      <td>1</td>\n",
       "    </tr>\n",
       "  </tbody>\n",
       "</table>\n",
       "</div>"
      ],
      "text/plain": [
       "                Team1              Team2        Date             Winner  \\\n",
       "17          Lightning    Southern Vipers  29-05-2021    Southern Vipers   \n",
       "18   South East Stars    Southern Vipers  19-09-2020    Southern Vipers   \n",
       "19            Thunder     Central Sparks  31-08-2020     Central Sparks   \n",
       "20   South East Stars  Northern Diamonds  12-06-2021  Northern Diamonds   \n",
       "21            Thunder    Southern Vipers  10-09-2021    Southern Vipers   \n",
       "22  Northern Diamonds    Southern Vipers  25-09-2021    Southern Vipers   \n",
       "23     Central Sparks            Thunder  12-06-2021            Thunder   \n",
       "24  Northern Diamonds     Central Sparks  29-05-2021     Central Sparks   \n",
       "25          Lightning  Northern Diamonds  05-09-2020  Northern Diamonds   \n",
       "26            Thunder      Western Storm  29-05-2021      Western Storm   \n",
       "\n",
       "    Winning_Margin  \n",
       "17               4  \n",
       "18               4  \n",
       "19               4  \n",
       "20               3  \n",
       "21               3  \n",
       "22               3  \n",
       "23               2  \n",
       "24               2  \n",
       "25               2  \n",
       "26               1  "
      ]
     },
     "execution_count": 68,
     "metadata": {},
     "output_type": "execute_result"
    }
   ],
   "source": [
    "wickets_margin.tail(10)"
   ]
  },
  {
   "cell_type": "code",
   "execution_count": 69,
   "id": "426cbccc",
   "metadata": {},
   "outputs": [],
   "source": [
    "#add a new column\n",
    "wickets_margin['message'] = np.nan\n",
    "for i in range(len(wickets_margin)):\n",
    "    if wickets_margin['Winner'][i] == wickets_margin['Team1'][i]:\n",
    "        wickets_margin['message'][i] = \"beat \"+str(wickets_margin['Team2'][i])+\" by \"+str(wickets_margin['Winning_Margin'][i])+\" wickets \"+\"(\"+wickets_margin['Date'][i]+\")\"      \n",
    "    else:\n",
    "        wickets_margin['message'][i] = \"beat \"+str(wickets_margin['Team1'][i])+\" by \"+str(wickets_margin['Winning_Margin'][i])+\" wickets \"+\"(\"+wickets_margin['Date'][i]+\")\""
   ]
  },
  {
   "cell_type": "code",
   "execution_count": 70,
   "id": "26e8010d",
   "metadata": {},
   "outputs": [
    {
     "data": {
      "text/html": [
       "<div>\n",
       "<style scoped>\n",
       "    .dataframe tbody tr th:only-of-type {\n",
       "        vertical-align: middle;\n",
       "    }\n",
       "\n",
       "    .dataframe tbody tr th {\n",
       "        vertical-align: top;\n",
       "    }\n",
       "\n",
       "    .dataframe thead th {\n",
       "        text-align: right;\n",
       "    }\n",
       "</style>\n",
       "<table border=\"1\" class=\"dataframe\">\n",
       "  <thead>\n",
       "    <tr style=\"text-align: right;\">\n",
       "      <th></th>\n",
       "      <th>Team1</th>\n",
       "      <th>Team2</th>\n",
       "      <th>Date</th>\n",
       "      <th>Winner</th>\n",
       "      <th>Winning_Margin</th>\n",
       "      <th>message</th>\n",
       "    </tr>\n",
       "  </thead>\n",
       "  <tbody>\n",
       "    <tr>\n",
       "      <th>0</th>\n",
       "      <td>Sunrisers</td>\n",
       "      <td>Northern Diamonds</td>\n",
       "      <td>05-06-2021</td>\n",
       "      <td>Northern Diamonds</td>\n",
       "      <td>9</td>\n",
       "      <td>beat Sunrisers by 9 wickets (05-06-2021)</td>\n",
       "    </tr>\n",
       "    <tr>\n",
       "      <th>1</th>\n",
       "      <td>Central Sparks</td>\n",
       "      <td>Northern Diamonds</td>\n",
       "      <td>29-08-2020</td>\n",
       "      <td>Northern Diamonds</td>\n",
       "      <td>9</td>\n",
       "      <td>beat Central Sparks by 9 wickets (29-08-2020)</td>\n",
       "    </tr>\n",
       "    <tr>\n",
       "      <th>2</th>\n",
       "      <td>Thunder</td>\n",
       "      <td>Central Sparks</td>\n",
       "      <td>05-09-2020</td>\n",
       "      <td>Central Sparks</td>\n",
       "      <td>8</td>\n",
       "      <td>beat Thunder by 8 wickets (05-09-2020)</td>\n",
       "    </tr>\n",
       "    <tr>\n",
       "      <th>3</th>\n",
       "      <td>Western Storm</td>\n",
       "      <td>Southern Vipers</td>\n",
       "      <td>12-06-2021</td>\n",
       "      <td>Southern Vipers</td>\n",
       "      <td>8</td>\n",
       "      <td>beat Western Storm by 8 wickets (12-06-2021)</td>\n",
       "    </tr>\n",
       "    <tr>\n",
       "      <th>4</th>\n",
       "      <td>Western Storm</td>\n",
       "      <td>Northern Diamonds</td>\n",
       "      <td>10-09-2021</td>\n",
       "      <td>Northern Diamonds</td>\n",
       "      <td>7</td>\n",
       "      <td>beat Western Storm by 7 wickets (10-09-2021)</td>\n",
       "    </tr>\n",
       "    <tr>\n",
       "      <th>5</th>\n",
       "      <td>South East Stars</td>\n",
       "      <td>Southern Vipers</td>\n",
       "      <td>31-05-2021</td>\n",
       "      <td>Southern Vipers</td>\n",
       "      <td>7</td>\n",
       "      <td>beat South East Stars by 7 wickets (31-05-2021)</td>\n",
       "    </tr>\n",
       "    <tr>\n",
       "      <th>6</th>\n",
       "      <td>Sunrisers</td>\n",
       "      <td>Southern Vipers</td>\n",
       "      <td>29-08-2020</td>\n",
       "      <td>Southern Vipers</td>\n",
       "      <td>7</td>\n",
       "      <td>beat Sunrisers by 7 wickets (29-08-2020)</td>\n",
       "    </tr>\n",
       "    <tr>\n",
       "      <th>7</th>\n",
       "      <td>South East Stars</td>\n",
       "      <td>Western Storm</td>\n",
       "      <td>11-09-2020</td>\n",
       "      <td>Western Storm</td>\n",
       "      <td>7</td>\n",
       "      <td>beat South East Stars by 7 wickets (11-09-2020)</td>\n",
       "    </tr>\n",
       "    <tr>\n",
       "      <th>8</th>\n",
       "      <td>Sunrisers</td>\n",
       "      <td>South East Stars</td>\n",
       "      <td>13-09-2020</td>\n",
       "      <td>South East Stars</td>\n",
       "      <td>6</td>\n",
       "      <td>beat Sunrisers by 6 wickets (13-09-2020)</td>\n",
       "    </tr>\n",
       "    <tr>\n",
       "      <th>9</th>\n",
       "      <td>Sunrisers</td>\n",
       "      <td>Central Sparks</td>\n",
       "      <td>10-09-2021</td>\n",
       "      <td>Central Sparks</td>\n",
       "      <td>6</td>\n",
       "      <td>beat Sunrisers by 6 wickets (10-09-2021)</td>\n",
       "    </tr>\n",
       "  </tbody>\n",
       "</table>\n",
       "</div>"
      ],
      "text/plain": [
       "              Team1              Team2        Date             Winner  \\\n",
       "0         Sunrisers  Northern Diamonds  05-06-2021  Northern Diamonds   \n",
       "1    Central Sparks  Northern Diamonds  29-08-2020  Northern Diamonds   \n",
       "2           Thunder     Central Sparks  05-09-2020     Central Sparks   \n",
       "3     Western Storm    Southern Vipers  12-06-2021    Southern Vipers   \n",
       "4     Western Storm  Northern Diamonds  10-09-2021  Northern Diamonds   \n",
       "5  South East Stars    Southern Vipers  31-05-2021    Southern Vipers   \n",
       "6         Sunrisers    Southern Vipers  29-08-2020    Southern Vipers   \n",
       "7  South East Stars      Western Storm  11-09-2020      Western Storm   \n",
       "8         Sunrisers   South East Stars  13-09-2020   South East Stars   \n",
       "9         Sunrisers     Central Sparks  10-09-2021     Central Sparks   \n",
       "\n",
       "   Winning_Margin                                          message  \n",
       "0               9         beat Sunrisers by 9 wickets (05-06-2021)  \n",
       "1               9    beat Central Sparks by 9 wickets (29-08-2020)  \n",
       "2               8           beat Thunder by 8 wickets (05-09-2020)  \n",
       "3               8     beat Western Storm by 8 wickets (12-06-2021)  \n",
       "4               7     beat Western Storm by 7 wickets (10-09-2021)  \n",
       "5               7  beat South East Stars by 7 wickets (31-05-2021)  \n",
       "6               7         beat Sunrisers by 7 wickets (29-08-2020)  \n",
       "7               7  beat South East Stars by 7 wickets (11-09-2020)  \n",
       "8               6         beat Sunrisers by 6 wickets (13-09-2020)  \n",
       "9               6         beat Sunrisers by 6 wickets (10-09-2021)  "
      ]
     },
     "execution_count": 70,
     "metadata": {},
     "output_type": "execute_result"
    }
   ],
   "source": [
    "wickets_margin.head(10)"
   ]
  },
  {
   "cell_type": "code",
   "execution_count": 71,
   "id": "fd043153",
   "metadata": {},
   "outputs": [
    {
     "data": {
      "text/plain": [
       "<Figure size 36x144 with 0 Axes>"
      ]
     },
     "metadata": {},
     "output_type": "display_data"
    },
    {
     "data": {
      "image/png": "[encoded data removed]",
      "text/plain": [
       "<Figure size 360x360 with 1 Axes>"
      ]
     },
     "metadata": {
      "needs_background": "light"
     },
     "output_type": "display_data"
    }
   ],
   "source": [
    "#plot distribution of  wins by wickets\n",
    "plt.figure(figsize=(0.5,2))\n",
    "sns.displot(data=wickets_margin,x='Winning_Margin',color=\"mediumpurple\",bins=25)\n",
    "plt.title('Winning Margin by Wickets')\n",
    "plt.xlabel('Wickets margin')\n",
    "\n",
    "plt.savefig('C:\\\\Users\\\\DELL\\\\Cricdata\\\\Winbywickets_hist.jpeg',bbox_inches='tight')\n",
    "plt.show()"
   ]
  },
  {
   "cell_type": "markdown",
   "id": "d4fbd427",
   "metadata": {},
   "source": [
    "For teams batting second, most wins came by 2 to 7 wickets. Seven matches have been won by 6 wickets remaining. One match witnessed a close victory by 1 wicket while a few matches were comfortable victories for the chasing team with 8 and 9 wickets in hand"
   ]
  },
  {
   "cell_type": "code",
   "execution_count": 72,
   "id": "348b4552",
   "metadata": {},
   "outputs": [
    {
     "data": {
      "image/png": "[encoded data removed]",
      "text/plain": [
       "<Figure size 504x360 with 1 Axes>"
      ]
     },
     "metadata": {
      "needs_background": "light"
     },
     "output_type": "display_data"
    }
   ],
   "source": [
    "#plot highest winning margins by wickets\n",
    "df = wickets_margin.head(7)\n",
    "\n",
    "plt.figure(figsize=(7, 5))\n",
    "\n",
    "plt.title('Highest Wins by Wickets')\n",
    "ax = sns.barplot(x=df.Winning_Margin, y=df.index, orient='h',palette='Purples_d',hue=df.Winning_Margin,dodge=False)\n",
    "ax.set_yticklabels(df.Winner)\n",
    "ax.legend_.remove() #hide the legend\n",
    "plt.xlabel('')\n",
    " \n",
    "# write messages on bars\n",
    "for bar, msg in zip(ax.patches, df['message']):\n",
    "    ax.text(0.5, bar.get_y()+bar.get_height()/2, msg, color='black', ha='left', va='center')\n",
    "\n",
    "plt.savefig('C:\\\\Users\\\\DELL\\\\Cricdata\\\\TopWinsbyWickets.jpeg',bbox_inches='tight')\n",
    "plt.show()"
   ]
  },
  {
   "cell_type": "code",
   "execution_count": 73,
   "id": "dc31b5bd",
   "metadata": {},
   "outputs": [
    {
     "data": {
      "image/png": "[encoded data removed]",
      "text/plain": [
       "<Figure size 504x360 with 1 Axes>"
      ]
     },
     "metadata": {
      "needs_background": "light"
     },
     "output_type": "display_data"
    }
   ],
   "source": [
    "#plot narrowest winning margins by wickets\n",
    "df1 = wickets_margin.tail(7)\n",
    "\n",
    "plt.figure(figsize=(7, 5))\n",
    "\n",
    "plt.title('Narrowest Wins by Wickets')\n",
    "ax = sns.barplot(x=df1.Winning_Margin, y=df1.index, orient='h',palette='Purples',hue=df1.Winning_Margin,dodge=False)\n",
    "ax.set_yticklabels(df1.Winner)\n",
    "ax.set_xlim(0,10) #set x axis limits\n",
    "ax.legend_.remove() #hide the legend\n",
    "plt.ylim(reversed(plt.ylim())) #invert the y-axis for ascending order\n",
    "plt.xlabel('')\n",
    " \n",
    "# write messages on bars\n",
    "for bar, msg in zip(ax.patches, df1['message']):\n",
    "    ax.text(3.0, bar.get_y()+bar.get_height()/2, msg, color='black', ha='left', va='center')\n",
    "\n",
    "plt.savefig('C:\\\\Users\\\\DELL\\\\Cricdata\\\\NarrowWinsbyWickets.jpeg',bbox_inches='tight')\n",
    "plt.show()"
   ]
  }
 ],
 "metadata": {
  "celltoolbar": "Raw Cell Format",
  "kernelspec": {
   "display_name": "Python 3",
   "language": "python",
   "name": "python3"
  },
  "language_info": {
   "codemirror_mode": {
    "name": "ipython",
    "version": 3
   },
   "file_extension": ".py",
   "mimetype": "text/x-python",
   "name": "python",
   "nbconvert_exporter": "python",
   "pygments_lexer": "ipython3",
   "version": "3.8.8"
  }
 },
 "nbformat": 4,
 "nbformat_minor": 5
}
